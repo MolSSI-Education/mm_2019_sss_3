{
 "cells": [
  {
   "cell_type": "markdown",
   "metadata": {},
   "source": [
    "# Mcpy\n",
    "## MolSSI Summer School -- Domain Specific Project\n",
    "### -- Van Nguyen, Brian Nguyen, Joel Ricci, Sabiha Rustam, and Brandon Butler\n",
    "\n",
    "### 2019-07-31"
   ]
  },
  {
   "cell_type": "markdown",
   "metadata": {},
   "source": [
    "### Import necessary modules"
   ]
  },
  {
   "cell_type": "code",
   "execution_count": 1,
   "metadata": {},
   "outputs": [],
   "source": [
    "import numpy as np\n",
    "import mcpy.particles\n",
    "import mcpy.box\n",
    "import mcpy.pairwise\n",
    "import mcpy.integrator\n",
    "import mcpy.mcsimulation\n",
    "from timeit import default_timer as timer"
   ]
  },
  {
   "cell_type": "markdown",
   "metadata": {},
   "source": [
    "### Set up simulation parameters"
   ]
  },
  {
   "cell_type": "code",
   "execution_count": 2,
   "metadata": {},
   "outputs": [],
   "source": [
    "reduced_temperature = 0.9\n",
    "reduced_density = 0.9\n",
    "num_part = 500"
   ]
  },
  {
   "cell_type": "markdown",
   "metadata": {},
   "source": [
    "## Initialize objects\n",
    "\n",
    "* Box -- holds the box dimensions and can manipulate periodic\n",
    "  points\n",
    "* Particles -- holds the particle's coordinates and number\n",
    "  with the potential to later aggregate other quantities\n",
    "* LJ -- computes the pairwise potential of a series of\n",
    "  points\n",
    "* Integrator -- Class that actually performs the displacement\n",
    "  trial move\n",
    "* MCSimulation -- Interfaces all the classes correctly together."
   ]
  },
  {
   "cell_type": "code",
   "execution_count": 6,
   "metadata": {},
   "outputs": [],
   "source": [
    "box_dims = np.full(3, np.cbrt(num_part / reduced_density))\n",
    "box = mcpy.box.Box(box_dims=box_dims)\n",
    "part = mcpy.particles.Particles.from_random(num_particles=num_part,\n",
    "                                            box_dims=box.box_dims)\n",
    "lj = mcpy.pairwise.LJ(cutoff=3.)\n",
    "intg = mcpy.integrator.Integrator(1/reduced_temperature)\n",
    "mc = mcpy.mcsimulation.MCSimulation()"
   ]
  },
  {
   "cell_type": "markdown",
   "metadata": {},
   "source": [
    "### Add objects to MCSimulation object"
   ]
  },
  {
   "cell_type": "code",
   "execution_count": 7,
   "metadata": {},
   "outputs": [],
   "source": [
    "mc.add_integrator(intg)\n",
    "mc.add_box(box)\n",
    "mc.add_particles(part)\n",
    "mc.add_potential(lj)"
   ]
  },
  {
   "cell_type": "markdown",
   "metadata": {},
   "source": [
    "### Runs Simulation for 1 Million Steps"
   ]
  },
  {
   "cell_type": "code",
   "execution_count": 8,
   "metadata": {},
   "outputs": [
    {
     "name": "stdout",
     "output_type": "stream",
     "text": [
      "Step 10000, Energy 13.327134710585188, Acceptance Rates [0.4052]\n",
      "Step 20000, Energy -2.821599098803799, Acceptance Rates [0.3646]\n",
      "Step 30000, Energy -4.752318487498101, Acceptance Rates [0.36486667]\n",
      "Step 40000, Energy -5.123084134430791, Acceptance Rates [0.380025]\n",
      "Step 50000, Energy -5.302107967180104, Acceptance Rates [0.39252]\n",
      "Step 60000, Energy -5.439962901864734, Acceptance Rates [0.40168333]\n",
      "Step 70000, Energy -5.561079841019232, Acceptance Rates [0.41025714]\n",
      "Step 80000, Energy -5.603006542748481, Acceptance Rates [0.4172875]\n",
      "Step 90000, Energy -5.686591664738901, Acceptance Rates [0.42275556]\n",
      "Step 100000, Energy -5.680470500688512, Acceptance Rates [0.42385]\n",
      "Step 110000, Energy -5.680204995645535, Acceptance Rates [0.42175455]\n",
      "Step 120000, Energy -5.6769187055540655, Acceptance Rates [0.41649167]\n",
      "Step 130000, Energy -5.695318838077272, Acceptance Rates [0.41206923]\n",
      "Step 140000, Energy -5.707074877632085, Acceptance Rates [0.40812143]\n",
      "Step 150000, Energy -5.761956976159708, Acceptance Rates [0.40460667]\n",
      "Step 160000, Energy -5.754568335282554, Acceptance Rates [0.40235625]\n",
      "Step 170000, Energy -5.755525868637501, Acceptance Rates [0.40019412]\n",
      "Step 180000, Energy -5.7597638223710295, Acceptance Rates [0.39807778]\n",
      "Step 190000, Energy -5.826110690708245, Acceptance Rates [0.39575263]\n",
      "Step 200000, Energy -5.817970612259569, Acceptance Rates [0.39378]\n",
      "Step 210000, Energy -5.791875455266877, Acceptance Rates [0.39223333]\n",
      "Step 220000, Energy -5.820503807787418, Acceptance Rates [0.39105909]\n",
      "Step 230000, Energy -5.8030799756618805, Acceptance Rates [0.39025652]\n",
      "Step 240000, Energy -5.877903420547287, Acceptance Rates [0.38975]\n",
      "Step 250000, Energy -5.863300741962941, Acceptance Rates [0.388908]\n",
      "Step 260000, Energy -5.819476021430121, Acceptance Rates [0.38812308]\n",
      "Step 270000, Energy -5.840381932315063, Acceptance Rates [0.38737037]\n",
      "Step 280000, Energy -5.797849340156441, Acceptance Rates [0.38703214]\n",
      "Step 290000, Energy -5.762211292278086, Acceptance Rates [0.38632414]\n",
      "Step 300000, Energy -5.835169047827728, Acceptance Rates [0.38559667]\n",
      "Step 310000, Energy -5.818892563173621, Acceptance Rates [0.38503871]\n",
      "Step 320000, Energy -5.813690724776356, Acceptance Rates [0.38441562]\n",
      "Step 330000, Energy -5.801965013283918, Acceptance Rates [0.38386667]\n",
      "Step 340000, Energy -5.768006477674652, Acceptance Rates [0.38333235]\n",
      "Step 350000, Energy -5.746645639856809, Acceptance Rates [0.38290571]\n",
      "Step 360000, Energy -5.85875442580971, Acceptance Rates [0.38236389]\n",
      "Step 370000, Energy -5.864285648653524, Acceptance Rates [0.38218919]\n",
      "Step 380000, Energy -5.880254312626899, Acceptance Rates [0.382]\n",
      "Step 390000, Energy -5.843901050250474, Acceptance Rates [0.38183333]\n",
      "Step 400000, Energy -5.906722274914243, Acceptance Rates [0.381675]\n",
      "Step 410000, Energy -5.907083473340236, Acceptance Rates [0.38146098]\n",
      "Step 420000, Energy -5.847459336827852, Acceptance Rates [0.38111905]\n",
      "Step 430000, Energy -5.8724373574922835, Acceptance Rates [0.38111395]\n",
      "Step 440000, Energy -5.903736608737896, Acceptance Rates [0.38087727]\n",
      "Step 450000, Energy -5.798827683551189, Acceptance Rates [0.38055556]\n",
      "Step 460000, Energy -5.873823277218281, Acceptance Rates [0.38025217]\n",
      "Step 470000, Energy -5.891749179257095, Acceptance Rates [0.37981489]\n",
      "Step 480000, Energy -5.791266517609561, Acceptance Rates [0.38036667]\n",
      "Step 490000, Energy -5.787861884250018, Acceptance Rates [0.3810449]\n",
      "Step 500000, Energy -5.803408770678311, Acceptance Rates [0.3816]\n",
      "Step 510000, Energy -5.857383233247366, Acceptance Rates [0.38219216]\n",
      "Step 520000, Energy -5.824930018111617, Acceptance Rates [0.38261346]\n",
      "Step 530000, Energy -5.878330609053719, Acceptance Rates [0.38329057]\n",
      "Step 540000, Energy -5.840605508648437, Acceptance Rates [0.38391111]\n",
      "Step 550000, Energy -5.76791865363571, Acceptance Rates [0.38429273]\n",
      "Step 560000, Energy -5.817388323816316, Acceptance Rates [0.38478036]\n",
      "Step 570000, Energy -5.816790039735987, Acceptance Rates [0.38523684]\n",
      "Step 580000, Energy -5.827814087023261, Acceptance Rates [0.38573448]\n",
      "Step 590000, Energy -5.786826369273123, Acceptance Rates [0.38623729]\n",
      "Step 600000, Energy -5.79450375317521, Acceptance Rates [0.38663]\n",
      "Step 610000, Energy -5.82543697569683, Acceptance Rates [0.38706393]\n",
      "Step 620000, Energy -5.799942682577651, Acceptance Rates [0.38760161]\n",
      "Step 630000, Energy -5.773312930992623, Acceptance Rates [0.38807778]\n",
      "Step 640000, Energy -5.84731100573309, Acceptance Rates [0.3883875]\n",
      "Step 650000, Energy -5.869726711406547, Acceptance Rates [0.38876615]\n",
      "Step 660000, Energy -5.78975721615014, Acceptance Rates [0.38908485]\n",
      "Step 670000, Energy -5.8141140135775915, Acceptance Rates [0.38938806]\n",
      "Step 680000, Energy -5.750800631591103, Acceptance Rates [0.38976765]\n",
      "Step 690000, Energy -5.834071325174238, Acceptance Rates [0.39014493]\n",
      "Step 700000, Energy -5.860550992200425, Acceptance Rates [0.39048143]\n",
      "Step 710000, Energy -5.7900962332851105, Acceptance Rates [0.39077324]\n",
      "Step 720000, Energy -5.777309004904362, Acceptance Rates [0.39098472]\n",
      "Step 730000, Energy -5.848059632440019, Acceptance Rates [0.39107123]\n",
      "Step 740000, Energy -5.819574454400728, Acceptance Rates [0.39139865]\n",
      "Step 750000, Energy -5.892589625650234, Acceptance Rates [0.39170133]\n",
      "Step 760000, Energy -5.837115584423332, Acceptance Rates [0.39197632]\n",
      "Step 770000, Energy -5.893409526768479, Acceptance Rates [0.39230519]\n",
      "Step 780000, Energy -5.897386592149181, Acceptance Rates [0.39255]\n",
      "Step 790000, Energy -5.810801604266543, Acceptance Rates [0.39276203]\n",
      "Step 800000, Energy -5.852346526307976, Acceptance Rates [0.393015]\n",
      "Step 810000, Energy -5.910455468726366, Acceptance Rates [0.39324691]\n",
      "Step 820000, Energy -5.787199070586728, Acceptance Rates [0.3934622]\n",
      "Step 830000, Energy -5.798973388236408, Acceptance Rates [0.39365301]\n",
      "Step 840000, Energy -5.8068354775952065, Acceptance Rates [0.39392976]\n",
      "Step 850000, Energy -5.740346934508267, Acceptance Rates [0.39412353]\n",
      "Step 860000, Energy -5.895090402978426, Acceptance Rates [0.3943186]\n",
      "Step 870000, Energy -5.904035594897231, Acceptance Rates [0.39448391]\n",
      "Step 880000, Energy -5.892280586752063, Acceptance Rates [0.39469659]\n",
      "Step 890000, Energy -5.876166645353702, Acceptance Rates [0.39489551]\n",
      "Step 900000, Energy -5.872516405261747, Acceptance Rates [0.39518667]\n",
      "Step 910000, Energy -5.789082964141135, Acceptance Rates [0.39532967]\n",
      "Step 920000, Energy -5.814654690729408, Acceptance Rates [0.39546739]\n",
      "Step 930000, Energy -5.904935943973496, Acceptance Rates [0.39568602]\n",
      "Step 940000, Energy -5.821485315007756, Acceptance Rates [0.39590745]\n",
      "Step 950000, Energy -5.833069690360848, Acceptance Rates [0.39612737]\n",
      "Step 960000, Energy -5.813565485569125, Acceptance Rates [0.39635208]\n",
      "Step 970000, Energy -5.866550495602707, Acceptance Rates [0.39658247]\n",
      "Step 980000, Energy -5.842043884113353, Acceptance Rates [0.39682347]\n",
      "Step 990000, Energy -5.8885579803333306, Acceptance Rates [0.3970303]\n",
      "Step 1000000, Energy -5.871902301007344, Acceptance Rates [0.397208]\n"
     ]
    }
   ],
   "source": [
    "t1 = timer()\n",
    "mc.run(1000000)\n",
    "t2 = timer()"
   ]
  },
  {
   "cell_type": "code",
   "execution_count": 10,
   "metadata": {},
   "outputs": [
    {
     "name": "stdout",
     "output_type": "stream",
     "text": [
      "1 million steps in  179 sec\n",
      " 5559 steps per second.\n"
     ]
    }
   ],
   "source": [
    "print(\"1 million steps in {:4d} sec\".format(int(t2 - t1)))\n",
    "print(\"{:5d} steps per second.\".format(int(1e6/(t2 - t1))))"
   ]
  },
  {
   "cell_type": "markdown",
   "metadata": {},
   "source": [
    "## Original Script"
   ]
  },
  {
   "cell_type": "code",
   "execution_count": 11,
   "metadata": {},
   "outputs": [
    {
     "name": "stdout",
     "output_type": "stream",
     "text": [
      "10000 31.229914164001794\n",
      "20000 -2.4177548352379254\n",
      "30000 -4.475914814727645\n",
      "40000 -5.000929933948568\n",
      "50000 -5.312395085433374\n",
      "60000 -5.462793671413833\n",
      "70000 -5.579268185874112\n",
      "80000 -5.623278528788432\n",
      "90000 -5.661478811045674\n",
      "100000 -5.768227346447591\n"
     ]
    }
   ],
   "source": [
    "t1 = timer()\n",
    "%run day_1.py\n",
    "t2 = timer()"
   ]
  },
  {
   "cell_type": "code",
   "execution_count": 13,
   "metadata": {},
   "outputs": [
    {
     "name": "stdout",
     "output_type": "stream",
     "text": [
      "One hundred thousand steps in  770 sec\n",
      "  129 steps per second.\n"
     ]
    }
   ],
   "source": [
    "print(\"One hundred thousand steps in {:4d} sec\".format(int(t2 - t1)))\n",
    "print(\"{:5d} steps per second.\".format(int(1e5/(t2 - t1))))"
   ]
  },
  {
   "cell_type": "markdown",
   "metadata": {},
   "source": [
    "## Numpy Speedup"
   ]
  },
  {
   "cell_type": "code",
   "execution_count": 14,
   "metadata": {},
   "outputs": [
    {
     "name": "stdout",
     "output_type": "stream",
     "text": [
      "Numpy code is 43.093023255813954 times faster.\n"
     ]
    }
   ],
   "source": [
    "print(\"Numpy code is {} times faster.\".format(5559/129))"
   ]
  }
 ],
 "metadata": {
  "kernelspec": {
   "display_name": "Python 3",
   "language": "python",
   "name": "python3"
  },
  "language_info": {
   "codemirror_mode": {
    "name": "ipython",
    "version": 3
   },
   "file_extension": ".py",
   "mimetype": "text/x-python",
   "name": "python",
   "nbconvert_exporter": "python",
   "pygments_lexer": "ipython3",
   "version": "3.7.3"
  }
 },
 "nbformat": 4,
 "nbformat_minor": 2
}
