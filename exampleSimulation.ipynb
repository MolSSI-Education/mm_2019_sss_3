{
 "cells": [
  {
   "cell_type": "markdown",
   "metadata": {},
   "source": [
    "# Mcpy\n",
    "## MolSSI Summer School -- Domain Specific Project\n",
    "### -- Van Nguyen, Brian Nguyen, Joel Ricci, Sabiha Rustam, and Brandon Butler\n",
    "\n",
    "### 2019-07-31"
   ]
  },
  {
   "cell_type": "markdown",
   "metadata": {},
   "source": [
    "### Import necessary modules"
   ]
  },
  {
   "cell_type": "code",
   "execution_count": 1,
   "metadata": {},
   "outputs": [],
   "source": [
    "import numpy as np\n",
    "import mcpy.particles\n",
    "import mcpy.box\n",
    "import mcpy.pairwise\n",
    "import mcpy.integrator\n",
    "import mcpy.mcsimulation\n",
    "from timeit import default_timer as timer"
   ]
  },
  {
   "cell_type": "markdown",
   "metadata": {},
   "source": [
    "### Set up simulation parameters"
   ]
  },
  {
   "cell_type": "code",
   "execution_count": 3,
   "metadata": {},
   "outputs": [],
   "source": [
    "reduced_temperature = 0.9\n",
    "reduced_density = 0.9\n",
    "num_part = 500"
   ]
  },
  {
   "cell_type": "markdown",
   "metadata": {},
   "source": [
    "## Initialize objects\n",
    "\n",
    "* Box -- holds the box dimensions and can manipulate periodic\n",
    "  points\n",
    "* Particles -- holds the particle's coordinates and number\n",
    "  with the potential to later aggregate other quantities\n",
    "* LJ -- computes the pairwise potential of a series of\n",
    "  points\n",
    "* Integrator -- Class that actually performs the displacement\n",
    "  trial move\n",
    "* MCSimulation -- Interfaces all the classes correctly together."
   ]
  },
  {
   "cell_type": "code",
   "execution_count": 6,
   "metadata": {},
   "outputs": [],
   "source": [
    "box_dims = np.full(3, np.cbrt(num_part / reduced_density))\n",
    "box = mcpy.box.Box(box_dims=box_dims)\n",
    "part = mcpy.particles.Particles.from_random(num_particles=num_part,\n",
    "                                            box_dims=box.box_dims)\n",
    "lj = mcpy.pairwise.LJ(cutoff=3.)\n",
    "intg = mcpy.integrator.Integrator(1/reduced_temperature)\n",
    "mc = mcpy.mcsimulation.MCSimulation()"
   ]
  },
  {
   "cell_type": "markdown",
   "metadata": {},
   "source": [
    "### Add objects to MCSimulation object"
   ]
  },
  {
   "cell_type": "code",
   "execution_count": 7,
   "metadata": {},
   "outputs": [],
   "source": [
    "mc.add_integrator(intg)\n",
    "mc.add_box(box)\n",
    "mc.add_particles(part)\n",
    "mc.add_potential(lj)"
   ]
  },
  {
   "cell_type": "markdown",
   "metadata": {},
   "source": [
    "### Runs Simulation for 1 Million Steps"
   ]
  },
  {
   "cell_type": "code",
   "execution_count": 8,
   "metadata": {
    "scrolled": true
   },
   "outputs": [
    {
     "name": "stdout",
     "output_type": "stream",
     "text": [
      "Step 10000, Energy 13.327134710585188, Acceptance Rates [0.4052]\n",
      "Step 20000, Energy -2.821599098803799, Acceptance Rates [0.3646]\n",
      "Step 30000, Energy -4.752318487498101, Acceptance Rates [0.36486667]\n",
      "Step 40000, Energy -5.123084134430791, Acceptance Rates [0.380025]\n",
      "Step 50000, Energy -5.302107967180104, Acceptance Rates [0.39252]\n",
      "Step 60000, Energy -5.439962901864734, Acceptance Rates [0.40168333]\n",
      "Step 70000, Energy -5.561079841019232, Acceptance Rates [0.41025714]\n",
      "Step 80000, Energy -5.603006542748481, Acceptance Rates [0.4172875]\n",
      "Step 90000, Energy -5.686591664738901, Acceptance Rates [0.42275556]\n",
      "Step 100000, Energy -5.680470500688512, Acceptance Rates [0.42385]\n",
      "Step 110000, Energy -5.680204995645535, Acceptance Rates [0.42175455]\n",
      "Step 120000, Energy -5.6769187055540655, Acceptance Rates [0.41649167]\n",
      "Step 130000, Energy -5.695318838077272, Acceptance Rates [0.41206923]\n",
      "Step 140000, Energy -5.707074877632085, Acceptance Rates [0.40812143]\n",
      "Step 150000, Energy -5.761956976159708, Acceptance Rates [0.40460667]\n",
      "Step 160000, Energy -5.754568335282554, Acceptance Rates [0.40235625]\n",
      "Step 170000, Energy -5.755525868637501, Acceptance Rates [0.40019412]\n",
      "Step 180000, Energy -5.7597638223710295, Acceptance Rates [0.39807778]\n",
      "Step 190000, Energy -5.826110690708245, Acceptance Rates [0.39575263]\n",
      "Step 200000, Energy -5.817970612259569, Acceptance Rates [0.39378]\n",
      "Step 210000, Energy -5.791875455266877, Acceptance Rates [0.39223333]\n",
      "Step 220000, Energy -5.820503807787418, Acceptance Rates [0.39105909]\n",
      "Step 230000, Energy -5.8030799756618805, Acceptance Rates [0.39025652]\n",
      "Step 240000, Energy -5.877903420547287, Acceptance Rates [0.38975]\n",
      "Step 250000, Energy -5.863300741962941, Acceptance Rates [0.388908]\n",
      "Step 260000, Energy -5.819476021430121, Acceptance Rates [0.38812308]\n",
      "Step 270000, Energy -5.840381932315063, Acceptance Rates [0.38737037]\n",
      "Step 280000, Energy -5.797849340156441, Acceptance Rates [0.38703214]\n",
      "Step 290000, Energy -5.762211292278086, Acceptance Rates [0.38632414]\n",
      "Step 300000, Energy -5.835169047827728, Acceptance Rates [0.38559667]\n",
      "Step 310000, Energy -5.818892563173621, Acceptance Rates [0.38503871]\n",
      "Step 320000, Energy -5.813690724776356, Acceptance Rates [0.38441562]\n",
      "Step 330000, Energy -5.801965013283918, Acceptance Rates [0.38386667]\n",
      "Step 340000, Energy -5.768006477674652, Acceptance Rates [0.38333235]\n",
      "Step 350000, Energy -5.746645639856809, Acceptance Rates [0.38290571]\n",
      "Step 360000, Energy -5.85875442580971, Acceptance Rates [0.38236389]\n",
      "Step 370000, Energy -5.864285648653524, Acceptance Rates [0.38218919]\n",
      "Step 380000, Energy -5.880254312626899, Acceptance Rates [0.382]\n",
      "Step 390000, Energy -5.843901050250474, Acceptance Rates [0.38183333]\n",
      "Step 400000, Energy -5.906722274914243, Acceptance Rates [0.381675]\n",
      "Step 410000, Energy -5.907083473340236, Acceptance Rates [0.38146098]\n",
      "Step 420000, Energy -5.847459336827852, Acceptance Rates [0.38111905]\n",
      "Step 430000, Energy -5.8724373574922835, Acceptance Rates [0.38111395]\n",
      "Step 440000, Energy -5.903736608737896, Acceptance Rates [0.38087727]\n",
      "Step 450000, Energy -5.798827683551189, Acceptance Rates [0.38055556]\n",
      "Step 460000, Energy -5.873823277218281, Acceptance Rates [0.38025217]\n",
      "Step 470000, Energy -5.891749179257095, Acceptance Rates [0.37981489]\n",
      "Step 480000, Energy -5.791266517609561, Acceptance Rates [0.38036667]\n",
      "Step 490000, Energy -5.787861884250018, Acceptance Rates [0.3810449]\n",
      "Step 500000, Energy -5.803408770678311, Acceptance Rates [0.3816]\n",
      "Step 510000, Energy -5.857383233247366, Acceptance Rates [0.38219216]\n",
      "Step 520000, Energy -5.824930018111617, Acceptance Rates [0.38261346]\n",
      "Step 530000, Energy -5.878330609053719, Acceptance Rates [0.38329057]\n",
      "Step 540000, Energy -5.840605508648437, Acceptance Rates [0.38391111]\n",
      "Step 550000, Energy -5.76791865363571, Acceptance Rates [0.38429273]\n",
      "Step 560000, Energy -5.817388323816316, Acceptance Rates [0.38478036]\n",
      "Step 570000, Energy -5.816790039735987, Acceptance Rates [0.38523684]\n",
      "Step 580000, Energy -5.827814087023261, Acceptance Rates [0.38573448]\n",
      "Step 590000, Energy -5.786826369273123, Acceptance Rates [0.38623729]\n",
      "Step 600000, Energy -5.79450375317521, Acceptance Rates [0.38663]\n",
      "Step 610000, Energy -5.82543697569683, Acceptance Rates [0.38706393]\n",
      "Step 620000, Energy -5.799942682577651, Acceptance Rates [0.38760161]\n",
      "Step 630000, Energy -5.773312930992623, Acceptance Rates [0.38807778]\n",
      "Step 640000, Energy -5.84731100573309, Acceptance Rates [0.3883875]\n",
      "Step 650000, Energy -5.869726711406547, Acceptance Rates [0.38876615]\n",
      "Step 660000, Energy -5.78975721615014, Acceptance Rates [0.38908485]\n",
      "Step 670000, Energy -5.8141140135775915, Acceptance Rates [0.38938806]\n",
      "Step 680000, Energy -5.750800631591103, Acceptance Rates [0.38976765]\n",
      "Step 690000, Energy -5.834071325174238, Acceptance Rates [0.39014493]\n",
      "Step 700000, Energy -5.860550992200425, Acceptance Rates [0.39048143]\n",
      "Step 710000, Energy -5.7900962332851105, Acceptance Rates [0.39077324]\n",
      "Step 720000, Energy -5.777309004904362, Acceptance Rates [0.39098472]\n",
      "Step 730000, Energy -5.848059632440019, Acceptance Rates [0.39107123]\n",
      "Step 740000, Energy -5.819574454400728, Acceptance Rates [0.39139865]\n",
      "Step 750000, Energy -5.892589625650234, Acceptance Rates [0.39170133]\n",
      "Step 760000, Energy -5.837115584423332, Acceptance Rates [0.39197632]\n",
      "Step 770000, Energy -5.893409526768479, Acceptance Rates [0.39230519]\n",
      "Step 780000, Energy -5.897386592149181, Acceptance Rates [0.39255]\n",
      "Step 790000, Energy -5.810801604266543, Acceptance Rates [0.39276203]\n",
      "Step 800000, Energy -5.852346526307976, Acceptance Rates [0.393015]\n",
      "Step 810000, Energy -5.910455468726366, Acceptance Rates [0.39324691]\n",
      "Step 820000, Energy -5.787199070586728, Acceptance Rates [0.3934622]\n",
      "Step 830000, Energy -5.798973388236408, Acceptance Rates [0.39365301]\n",
      "Step 840000, Energy -5.8068354775952065, Acceptance Rates [0.39392976]\n",
      "Step 850000, Energy -5.740346934508267, Acceptance Rates [0.39412353]\n",
      "Step 860000, Energy -5.895090402978426, Acceptance Rates [0.3943186]\n",
      "Step 870000, Energy -5.904035594897231, Acceptance Rates [0.39448391]\n",
      "Step 880000, Energy -5.892280586752063, Acceptance Rates [0.39469659]\n",
      "Step 890000, Energy -5.876166645353702, Acceptance Rates [0.39489551]\n",
      "Step 900000, Energy -5.872516405261747, Acceptance Rates [0.39518667]\n",
      "Step 910000, Energy -5.789082964141135, Acceptance Rates [0.39532967]\n",
      "Step 920000, Energy -5.814654690729408, Acceptance Rates [0.39546739]\n",
      "Step 930000, Energy -5.904935943973496, Acceptance Rates [0.39568602]\n",
      "Step 940000, Energy -5.821485315007756, Acceptance Rates [0.39590745]\n",
      "Step 950000, Energy -5.833069690360848, Acceptance Rates [0.39612737]\n",
      "Step 960000, Energy -5.813565485569125, Acceptance Rates [0.39635208]\n",
      "Step 970000, Energy -5.866550495602707, Acceptance Rates [0.39658247]\n",
      "Step 980000, Energy -5.842043884113353, Acceptance Rates [0.39682347]\n",
      "Step 990000, Energy -5.8885579803333306, Acceptance Rates [0.3970303]\n",
      "Step 1000000, Energy -5.871902301007344, Acceptance Rates [0.397208]\n"
     ]
    }
   ],
   "source": [
    "t1 = timer()\n",
    "mc.run(1000000)\n",
    "t2 = timer()"
   ]
  },
  {
   "cell_type": "code",
   "execution_count": 10,
   "metadata": {},
   "outputs": [
    {
     "name": "stdout",
     "output_type": "stream",
     "text": [
      "1 million steps in  179 sec\n",
      " 5559 steps per second.\n"
     ]
    }
   ],
   "source": [
    "print(\"1 million steps in {:4d} sec\".format(int(t2 - t1)))\n",
    "print(\"{:5d} steps per second.\".format(int(1e6/(t2 - t1))))"
   ]
  },
  {
   "cell_type": "markdown",
   "metadata": {},
   "source": [
    "## Original Script"
   ]
  },
  {
   "cell_type": "code",
   "execution_count": 11,
   "metadata": {},
   "outputs": [
    {
     "name": "stdout",
     "output_type": "stream",
     "text": [
      "10000 31.229914164001794\n",
      "20000 -2.4177548352379254\n",
      "30000 -4.475914814727645\n",
      "40000 -5.000929933948568\n",
      "50000 -5.312395085433374\n",
      "60000 -5.462793671413833\n",
      "70000 -5.579268185874112\n",
      "80000 -5.623278528788432\n",
      "90000 -5.661478811045674\n",
      "100000 -5.768227346447591\n"
     ]
    }
   ],
   "source": [
    "t1 = timer()\n",
    "%run day_1.py\n",
    "t2 = timer()"
   ]
  },
  {
   "cell_type": "code",
   "execution_count": 13,
   "metadata": {},
   "outputs": [
    {
     "name": "stdout",
     "output_type": "stream",
     "text": [
      "One hundred thousand steps in  770 sec\n",
      "  129 steps per second.\n"
     ]
    }
   ],
   "source": [
    "print(\"One hundred thousand steps in {:4d} sec\".format(int(t2 - t1)))\n",
    "print(\"{:5d} steps per second.\".format(int(1e5/(t2 - t1))))"
   ]
  },
  {
   "cell_type": "markdown",
   "metadata": {},
   "source": [
    "## Numpy Speedup"
   ]
  },
  {
   "cell_type": "code",
   "execution_count": 9,
   "metadata": {},
   "outputs": [
    {
     "name": "stdout",
     "output_type": "stream",
     "text": [
      "Numpy code is  43.09 times faster.\n"
     ]
    }
   ],
   "source": [
    "print(\"Numpy code is {:6.2f} times faster.\".format(5559/129))"
   ]
  },
  {
   "cell_type": "markdown",
   "metadata": {},
   "source": [
    "## Using C++ LJ Class"
   ]
  },
  {
   "cell_type": "code",
   "execution_count": 14,
   "metadata": {},
   "outputs": [
    {
     "name": "stdout",
     "output_type": "stream",
     "text": [
      "Already on 'lj_cpp_class'\r\n",
      "Your branch is up to date with 'origin/lj_cpp_class'.\r\n"
     ]
    }
   ],
   "source": [
    "## Need to reset kernel\n",
    "!git checkout -f lj_cpp_class"
   ]
  },
  {
   "cell_type": "code",
   "execution_count": 1,
   "metadata": {},
   "outputs": [],
   "source": [
    "import numpy as np\n",
    "import mcpy.box\n",
    "import mcpy.particles\n",
    "import mcpy.integrator\n",
    "import mcpy.mcsimulation\n",
    "from mccpp.pairwise import LJ\n",
    "from timeit import default_timer as timer"
   ]
  },
  {
   "cell_type": "code",
   "execution_count": 2,
   "metadata": {},
   "outputs": [],
   "source": [
    "reduced_temperature = 0.9\n",
    "reduced_density = 0.9\n",
    "num_part = 500"
   ]
  },
  {
   "cell_type": "code",
   "execution_count": 3,
   "metadata": {},
   "outputs": [],
   "source": [
    "box_dims = np.full(3, np.cbrt(num_part / reduced_density))\n",
    "box = mcpy.box.Box(box_dims=box_dims)\n",
    "part = mcpy.particles.Particles.from_random(num_particles=num_part,\n",
    "                                            box_dims=box.box_dims)\n",
    "lj = LJ(cutoff=3.)\n",
    "intg = mcpy.integrator.Integrator(1/reduced_temperature)\n",
    "mc = mcpy.mcsimulation.MCSimulation()"
   ]
  },
  {
   "cell_type": "code",
   "execution_count": 4,
   "metadata": {},
   "outputs": [],
   "source": [
    "mc.add_integrator(intg)\n",
    "mc.add_box(box)\n",
    "mc.add_particles(part)\n",
    "mc.add_potential(lj)"
   ]
  },
  {
   "cell_type": "code",
   "execution_count": 5,
   "metadata": {
    "scrolled": true
   },
   "outputs": [
    {
     "name": "stdout",
     "output_type": "stream",
     "text": [
      "Step 10000, Energy 20.01344309113857, Acceptance Rates [0.4135]\n",
      "Step 20000, Energy -3.4775066885564923, Acceptance Rates [0.37385]\n",
      "Step 30000, Energy -5.09119034865898, Acceptance Rates [0.36786667]\n",
      "Step 40000, Energy -5.578074320642485, Acceptance Rates [0.383825]\n",
      "Step 50000, Energy -5.758582225584569, Acceptance Rates [0.39712]\n",
      "Step 60000, Energy -5.899444787419869, Acceptance Rates [0.40721667]\n",
      "Step 70000, Energy -6.056590872675288, Acceptance Rates [0.41804286]\n",
      "Step 80000, Energy -6.142129465134682, Acceptance Rates [0.4256375]\n",
      "Step 90000, Energy -6.138230662765153, Acceptance Rates [0.42745556]\n",
      "Step 100000, Energy -6.148123934344866, Acceptance Rates [0.42518]\n",
      "Step 110000, Energy -6.076431159522927, Acceptance Rates [0.42009091]\n",
      "Step 120000, Energy -6.118750272295428, Acceptance Rates [0.41256667]\n",
      "Step 130000, Energy -6.07004048950394, Acceptance Rates [0.40572308]\n",
      "Step 140000, Energy -6.217513983457286, Acceptance Rates [0.40042857]\n",
      "Step 150000, Energy -6.1873623074628386, Acceptance Rates [0.39531333]\n",
      "Step 160000, Energy -6.087993976290864, Acceptance Rates [0.39098125]\n",
      "Step 170000, Energy -6.145484386073162, Acceptance Rates [0.38699412]\n",
      "Step 180000, Energy -6.108287010471254, Acceptance Rates [0.38326667]\n",
      "Step 190000, Energy -6.134988903026149, Acceptance Rates [0.37988947]\n",
      "Step 200000, Energy -6.140324043310417, Acceptance Rates [0.379265]\n",
      "Step 210000, Energy -6.116128072602429, Acceptance Rates [0.38064286]\n",
      "Step 220000, Energy -6.167726982426766, Acceptance Rates [0.38203636]\n",
      "Step 230000, Energy -6.140274636772309, Acceptance Rates [0.38365652]\n",
      "Step 240000, Energy -6.222360365349174, Acceptance Rates [0.385075]\n",
      "Step 250000, Energy -6.2165026694927255, Acceptance Rates [0.38636]\n",
      "Step 260000, Energy -6.237907318024392, Acceptance Rates [0.38756923]\n",
      "Step 270000, Energy -6.154014252351147, Acceptance Rates [0.3887037]\n",
      "Step 280000, Energy -6.1657781819784425, Acceptance Rates [0.38988571]\n",
      "Step 290000, Energy -6.252298103528291, Acceptance Rates [0.3908931]\n",
      "Step 300000, Energy -6.272846080558252, Acceptance Rates [0.39165667]\n",
      "Step 310000, Energy -6.1192206605870805, Acceptance Rates [0.39263548]\n",
      "Step 320000, Energy -6.2258375510903186, Acceptance Rates [0.39332812]\n",
      "Step 330000, Energy -6.173869661834648, Acceptance Rates [0.39420303]\n",
      "Step 340000, Energy -6.19380778656935, Acceptance Rates [0.39492059]\n",
      "Step 350000, Energy -6.2539097525848675, Acceptance Rates [0.39565429]\n",
      "Step 360000, Energy -6.254822021164856, Acceptance Rates [0.39639167]\n",
      "Step 370000, Energy -6.194635591972539, Acceptance Rates [0.39685676]\n",
      "Step 380000, Energy -6.089749808093381, Acceptance Rates [0.39718947]\n",
      "Step 390000, Energy -6.179602376712605, Acceptance Rates [0.3975641]\n",
      "Step 400000, Energy -6.2787945273129155, Acceptance Rates [0.39826]\n",
      "Step 410000, Energy -6.167348925816138, Acceptance Rates [0.39887073]\n",
      "Step 420000, Energy -6.16249940834244, Acceptance Rates [0.39931905]\n",
      "Step 430000, Energy -6.172680832445616, Acceptance Rates [0.3998814]\n",
      "Step 440000, Energy -6.255831421506491, Acceptance Rates [0.40037045]\n",
      "Step 450000, Energy -6.2769712163820675, Acceptance Rates [0.40084]\n",
      "Step 460000, Energy -6.184126141686682, Acceptance Rates [0.40137609]\n",
      "Step 470000, Energy -6.2712160982773995, Acceptance Rates [0.40192553]\n",
      "Step 480000, Energy -6.204111605660544, Acceptance Rates [0.40235833]\n",
      "Step 490000, Energy -6.0979276101857565, Acceptance Rates [0.40303061]\n",
      "Step 500000, Energy -6.256386380870246, Acceptance Rates [0.40343]\n",
      "Step 510000, Energy -6.168821889169754, Acceptance Rates [0.4036]\n",
      "Step 520000, Energy -6.189834087298411, Acceptance Rates [0.40402885]\n",
      "Step 530000, Energy -6.119857294745895, Acceptance Rates [0.40443962]\n",
      "Step 540000, Energy -6.13211058088838, Acceptance Rates [0.40474074]\n",
      "Step 550000, Energy -6.082529322579916, Acceptance Rates [0.40502]\n",
      "Step 560000, Energy -6.170446823538363, Acceptance Rates [0.40505536]\n",
      "Step 570000, Energy -6.163656933789493, Acceptance Rates [0.40511754]\n",
      "Step 580000, Energy -6.193424958331476, Acceptance Rates [0.40555172]\n",
      "Step 590000, Energy -6.112190377267801, Acceptance Rates [0.40587797]\n",
      "Step 600000, Energy -6.223466285495459, Acceptance Rates [0.406075]\n",
      "Step 610000, Energy -6.138343814268614, Acceptance Rates [0.40620984]\n",
      "Step 620000, Energy -6.186340714956897, Acceptance Rates [0.40649032]\n",
      "Step 630000, Energy -6.1940385133392, Acceptance Rates [0.40673175]\n",
      "Step 640000, Energy -6.148709419049826, Acceptance Rates [0.40697344]\n",
      "Step 650000, Energy -6.1640864485539195, Acceptance Rates [0.40716769]\n",
      "Step 660000, Energy -6.2400673459521, Acceptance Rates [0.40740909]\n",
      "Step 670000, Energy -6.206365952545802, Acceptance Rates [0.40750149]\n",
      "Step 680000, Energy -6.186943246306284, Acceptance Rates [0.40770735]\n",
      "Step 690000, Energy -6.110358060451274, Acceptance Rates [0.40774928]\n",
      "Step 700000, Energy -6.1765280159346325, Acceptance Rates [0.40789714]\n",
      "Step 710000, Energy -6.16864472730251, Acceptance Rates [0.40815493]\n",
      "Step 720000, Energy -6.140951479464542, Acceptance Rates [0.40824167]\n",
      "Step 730000, Energy -6.193504819142559, Acceptance Rates [0.4084]\n",
      "Step 740000, Energy -6.1461630807568275, Acceptance Rates [0.40856351]\n",
      "Step 750000, Energy -6.220110847258881, Acceptance Rates [0.40864133]\n",
      "Step 760000, Energy -6.195278350737582, Acceptance Rates [0.40877368]\n",
      "Step 770000, Energy -6.145277312263091, Acceptance Rates [0.40871429]\n",
      "Step 780000, Energy -6.07269168777149, Acceptance Rates [0.40882692]\n",
      "Step 790000, Energy -6.146307306412147, Acceptance Rates [0.40879873]\n",
      "Step 800000, Energy -6.175546434957899, Acceptance Rates [0.40896875]\n",
      "Step 810000, Energy -6.1582349105760095, Acceptance Rates [0.40904321]\n",
      "Step 820000, Energy -6.163935327008354, Acceptance Rates [0.40919634]\n",
      "Step 830000, Energy -6.1687870671647556, Acceptance Rates [0.4092759]\n",
      "Step 840000, Energy -6.215421736513515, Acceptance Rates [0.40941548]\n",
      "Step 850000, Energy -6.140156006460845, Acceptance Rates [0.40941647]\n",
      "Step 860000, Energy -6.230622267828701, Acceptance Rates [0.40948372]\n",
      "Step 870000, Energy -6.166650288957434, Acceptance Rates [0.40955287]\n",
      "Step 880000, Energy -6.164722589545216, Acceptance Rates [0.40958864]\n",
      "Step 890000, Energy -6.225211007020452, Acceptance Rates [0.40961685]\n",
      "Step 900000, Energy -6.162858836853131, Acceptance Rates [0.40969889]\n",
      "Step 910000, Energy -6.122973737125323, Acceptance Rates [0.4098022]\n",
      "Step 920000, Energy -6.17479774751189, Acceptance Rates [0.40993696]\n",
      "Step 930000, Energy -6.139750693802201, Acceptance Rates [0.40996129]\n",
      "Step 940000, Energy -6.13694230739313, Acceptance Rates [0.40999043]\n",
      "Step 950000, Energy -6.061881801270967, Acceptance Rates [0.40990632]\n",
      "Step 960000, Energy -6.1348648939109856, Acceptance Rates [0.40994375]\n",
      "Step 970000, Energy -6.101054792807184, Acceptance Rates [0.40993918]\n",
      "Step 980000, Energy -6.1306747525989165, Acceptance Rates [0.41009694]\n",
      "Step 990000, Energy -6.138597881696468, Acceptance Rates [0.41009192]\n",
      "Step 1000000, Energy -6.082552135266805, Acceptance Rates [0.410173]\n"
     ]
    }
   ],
   "source": [
    "t1 = timer()\n",
    "mc.run(1000000)\n",
    "t2 = timer()"
   ]
  },
  {
   "cell_type": "code",
   "execution_count": 6,
   "metadata": {},
   "outputs": [
    {
     "name": "stdout",
     "output_type": "stream",
     "text": [
      "1 million steps in  390 sec\n",
      " 2563 steps per second.\n"
     ]
    }
   ],
   "source": [
    "print(\"1 million steps in {:4d} sec\".format(int(t2 - t1)))\n",
    "print(\"{:5d} steps per second.\".format(int(1e6/(t2 - t1))))"
   ]
  },
  {
   "cell_type": "markdown",
   "metadata": {},
   "source": [
    "## C++ Speedup"
   ]
  },
  {
   "cell_type": "code",
   "execution_count": 1,
   "metadata": {},
   "outputs": [
    {
     "name": "stdout",
     "output_type": "stream",
     "text": [
      "C++ code is  19.87 times faster.\n",
      "Numpy code is   2.17 times faster.\n"
     ]
    }
   ],
   "source": [
    "print(\"C++ code is {:6.2f} times faster.\".format(2563/129))\n",
    "print(\"Numpy code is {:6.2f} times faster.\".format(5559/2563))"
   ]
  },
  {
   "cell_type": "markdown",
   "metadata": {},
   "source": [
    "## Simple Scaling Analysis\n",
    "\n",
    "*With numpy*"
   ]
  },
  {
   "cell_type": "code",
   "execution_count": 4,
   "metadata": {},
   "outputs": [],
   "source": [
    "num_part = np.logspace(2, 4, num=10, dtype=np.int)\n",
    "lj = mcpy.pairwise.LJ(cutoff=3.)\n",
    "intg = mcpy.integrator.Integrator(1/reduced_temperature)\n",
    "times = []"
   ]
  },
  {
   "cell_type": "code",
   "execution_count": 5,
   "metadata": {
    "scrolled": true
   },
   "outputs": [
    {
     "name": "stdout",
     "output_type": "stream",
     "text": [
      "Step 10000, Energy -5.8291386099604665, Acceptance Rates [0.3587]\n",
      "Step 20000, Energy -6.0194886469085, Acceptance Rates [0.3918]\n",
      "Step 30000, Energy -6.117173984038273, Acceptance Rates [0.40786667]\n",
      "Step 40000, Energy -6.143055275647291, Acceptance Rates [0.41955]\n",
      "Step 50000, Energy -6.076773463829807, Acceptance Rates [0.42536]\n",
      "Step 60000, Energy -6.1067733716762564, Acceptance Rates [0.42348333]\n",
      "Step 70000, Energy -6.274207933029559, Acceptance Rates [0.41635714]\n",
      "Step 80000, Energy -6.148872453337143, Acceptance Rates [0.4109125]\n",
      "Step 90000, Energy -6.253372605674672, Acceptance Rates [0.4067]\n",
      "Step 100000, Energy -6.202090990512427, Acceptance Rates [0.4035]\n",
      "Step 10000, Energy -5.442825767165123, Acceptance Rates [0.3369]\n",
      "Step 20000, Energy -5.852946969672846, Acceptance Rates [0.3554]\n",
      "Step 30000, Energy -5.945743643036341, Acceptance Rates [0.3788]\n",
      "Step 40000, Energy -6.095857853765288, Acceptance Rates [0.406875]\n",
      "Step 50000, Energy -6.072678132791825, Acceptance Rates [0.42354]\n",
      "Step 60000, Energy -6.109276593305794, Acceptance Rates [0.4279]\n",
      "Step 70000, Energy -6.15034541181943, Acceptance Rates [0.42722857]\n",
      "Step 80000, Energy -6.082680651785257, Acceptance Rates [0.4207]\n",
      "Step 90000, Energy -6.114503700076402, Acceptance Rates [0.41114444]\n",
      "Step 100000, Energy -6.047033086993886, Acceptance Rates [0.40284]\n",
      "Step 10000, Energy -3.254228822331355, Acceptance Rates [0.3396]\n",
      "Step 20000, Energy -5.549720107500328, Acceptance Rates [0.33645]\n",
      "Step 30000, Energy -5.796519799815627, Acceptance Rates [0.3564]\n",
      "Step 40000, Energy -5.940177276907345, Acceptance Rates [0.377075]\n",
      "Step 50000, Energy -6.076869246372785, Acceptance Rates [0.40078]\n",
      "Step 60000, Energy -6.161258227883543, Acceptance Rates [0.41841667]\n",
      "Step 70000, Energy -6.103830839804528, Acceptance Rates [0.43017143]\n",
      "Step 80000, Energy -6.011489035996288, Acceptance Rates [0.435325]\n",
      "Step 90000, Energy -6.190319072143328, Acceptance Rates [0.43548889]\n",
      "Step 100000, Energy -6.2091904775407745, Acceptance Rates [0.43094]\n",
      "Step 10000, Energy 14.439703949687864, Acceptance Rates [0.3925]\n",
      "Step 20000, Energy -3.309931264672275, Acceptance Rates [0.35055]\n",
      "Step 30000, Energy -5.036197714087431, Acceptance Rates [0.3474]\n",
      "Step 40000, Energy -5.609708754260553, Acceptance Rates [0.35625]\n",
      "Step 50000, Energy -5.688387795081213, Acceptance Rates [0.37392]\n",
      "Step 60000, Energy -5.894835838335824, Acceptance Rates [0.39573333]\n",
      "Step 70000, Energy -5.971549638485662, Acceptance Rates [0.41198571]\n",
      "Step 80000, Energy -6.0347917444391905, Acceptance Rates [0.423875]\n",
      "Step 90000, Energy -6.00322424505575, Acceptance Rates [0.43006667]\n",
      "Step 100000, Energy -6.1000021760386876, Acceptance Rates [0.4319]\n",
      "Step 10000, Energy 205.50847997030678, Acceptance Rates [0.4472]\n",
      "Step 20000, Energy 2.9625798909572967, Acceptance Rates [0.3935]\n",
      "Step 30000, Energy -3.4532071310495582, Acceptance Rates [0.36886667]\n",
      "Step 40000, Energy -4.72770921940786, Acceptance Rates [0.362325]\n",
      "Step 50000, Energy -5.3295311939751695, Acceptance Rates [0.3699]\n",
      "Step 60000, Energy -5.564305719518873, Acceptance Rates [0.38345]\n",
      "Step 70000, Energy -5.66732783983845, Acceptance Rates [0.39464286]\n",
      "Step 80000, Energy -5.784583135788572, Acceptance Rates [0.4033875]\n",
      "Step 90000, Energy -5.865168087583687, Acceptance Rates [0.41148889]\n",
      "Step 100000, Energy -5.893583120054928, Acceptance Rates [0.41884]\n",
      "Step 10000, Energy 288192.380270337, Acceptance Rates [0.4771]\n",
      "Step 20000, Energy 2464.832248244448, Acceptance Rates [0.45785]\n",
      "Step 30000, Energy 25.919388018585177, Acceptance Rates [0.43036667]\n",
      "Step 40000, Energy 2.572473638921942, Acceptance Rates [0.405675]\n",
      "Step 50000, Energy -2.5689625547440493, Acceptance Rates [0.3902]\n",
      "Step 60000, Energy -3.9924334333891767, Acceptance Rates [0.37828333]\n",
      "Step 70000, Energy -4.724785887951576, Acceptance Rates [0.37545714]\n",
      "Step 80000, Energy -5.047881117651041, Acceptance Rates [0.3776375]\n",
      "Step 90000, Energy -5.263341661193944, Acceptance Rates [0.38552222]\n",
      "Step 100000, Energy -5.422674537083703, Acceptance Rates [0.39264]\n",
      "Step 10000, Energy 3042725.7177615734, Acceptance Rates [0.5002]\n",
      "Step 20000, Energy 5319.272848064593, Acceptance Rates [0.4769]\n",
      "Step 30000, Energy 455.577454096748, Acceptance Rates [0.455]\n",
      "Step 40000, Energy 61.34441365190351, Acceptance Rates [0.4345]\n",
      "Step 50000, Energy 15.03821384758917, Acceptance Rates [0.41512]\n",
      "Step 60000, Energy 3.256085477585931, Acceptance Rates [0.39881667]\n",
      "Step 70000, Energy -0.5264225552930283, Acceptance Rates [0.38434286]\n",
      "Step 80000, Energy -2.3942701904899013, Acceptance Rates [0.372125]\n",
      "Step 90000, Energy -3.5594751490902103, Acceptance Rates [0.36704444]\n",
      "Step 100000, Energy -4.1726611285358235, Acceptance Rates [0.36653]\n",
      "Step 10000, Energy 376698447.4267363, Acceptance Rates [0.4972]\n",
      "Step 20000, Energy 893039.342366673, Acceptance Rates [0.48265]\n",
      "Step 30000, Energy 479657.45277737186, Acceptance Rates [0.4664]\n",
      "Step 40000, Energy 1003.1895327544324, Acceptance Rates [0.4515]\n",
      "Step 50000, Energy 163.78853740678977, Acceptance Rates [0.4357]\n",
      "Step 60000, Energy 75.02718593584784, Acceptance Rates [0.41786667]\n",
      "Step 70000, Energy 21.19726918076438, Acceptance Rates [0.4036]\n",
      "Step 80000, Energy 10.126794156705213, Acceptance Rates [0.3897875]\n",
      "Step 90000, Energy 3.640606779353055, Acceptance Rates [0.37814444]\n",
      "Step 100000, Energy 0.05271938499095815, Acceptance Rates [0.36999]\n",
      "Step 10000, Energy 33861276537.985683, Acceptance Rates [0.4895]\n",
      "Step 20000, Energy 32432336196.177032, Acceptance Rates [0.476]\n",
      "Step 30000, Energy 10902068.811866187, Acceptance Rates [0.46236667]\n",
      "Step 40000, Energy 142604.5149402621, Acceptance Rates [0.446125]\n",
      "Step 50000, Energy 40543.230656493964, Acceptance Rates [0.4298]\n",
      "Step 60000, Energy 5177.400713700445, Acceptance Rates [0.41246667]\n",
      "Step 70000, Energy 549.1478584025693, Acceptance Rates [0.39671429]\n",
      "Step 80000, Energy 50.34095414408026, Acceptance Rates [0.3825]\n",
      "Step 90000, Energy 29.378006964211835, Acceptance Rates [0.37015556]\n",
      "Step 100000, Energy 17.78290720897292, Acceptance Rates [0.36154]\n",
      "Step 10000, Energy 168099549525.68057, Acceptance Rates [0.4874]\n",
      "Step 20000, Energy 160752532386.28592, Acceptance Rates [0.4748]\n",
      "Step 30000, Energy 6993088.35380668, Acceptance Rates [0.45996667]\n",
      "Step 40000, Energy 161967.51199154815, Acceptance Rates [0.4454]\n",
      "Step 50000, Energy 63127.626370373524, Acceptance Rates [0.42934]\n",
      "Step 60000, Energy 47133.50652932216, Acceptance Rates [0.41388333]\n",
      "Step 70000, Energy 40158.239404001164, Acceptance Rates [0.40028571]\n",
      "Step 80000, Energy 836.5545281116493, Acceptance Rates [0.3868875]\n",
      "Step 90000, Energy 454.7597547118865, Acceptance Rates [0.3753]\n",
      "Step 100000, Energy 342.3248249514504, Acceptance Rates [0.36634]\n"
     ]
    }
   ],
   "source": [
    "for num in num_part:\n",
    "    box_dims = np.full(3, np.cbrt(num / reduced_density))\n",
    "    box = mcpy.box.Box(box_dims=box_dims)\n",
    "    part = mcpy.particles.Particles.from_random(num_particles=num,\n",
    "                                                box_dims=box.box_dims)\n",
    "    mc = mcpy.mcsimulation.MCSimulation()\n",
    "    mc.add_integrator(intg)\n",
    "    mc.add_box(box)\n",
    "    mc.add_particles(part)\n",
    "    mc.add_potential(lj)\n",
    "    t1 = timer()\n",
    "    mc.run(100000)\n",
    "    t2 = timer()\n",
    "    times.append(t2 - t1)"
   ]
  },
  {
   "cell_type": "code",
   "execution_count": 18,
   "metadata": {},
   "outputs": [
    {
     "data": {
      "image/png": "[encoded data removed]",
      "text/plain": [
       "<Figure size 1080x576 with 1 Axes>"
      ]
     },
     "metadata": {
      "needs_background": "light"
     },
     "output_type": "display_data"
    }
   ],
   "source": [
    "import matplotlib.pyplot as plt\n",
    "default_size = 20 \n",
    "fig, ax = plt.subplots(figsize=(15,8))\n",
    "ax.plot(num_part, times)\n",
    "ax.set_xlabel(r\"$N_p$ Number of Particles\", size=default_size)\n",
    "ax.set_ylabel(\"Seconds per 1e6 steps\", size=default_size)\n",
    "ax.set_title(\"Scaling Based on Particle Number\", size=default_size + 10)\n",
    "ax.tick_params(axis='both', which='major', labelsize=default_size - 5)"
   ]
  }
 ],
 "metadata": {
  "kernelspec": {
   "display_name": "Python 3",
   "language": "python",
   "name": "python3"
  },
  "language_info": {
   "codemirror_mode": {
    "name": "ipython",
    "version": 3
   },
   "file_extension": ".py",
   "mimetype": "text/x-python",
   "name": "python",
   "nbconvert_exporter": "python",
   "pygments_lexer": "ipython3",
   "version": "3.7.3"
  }
 },
 "nbformat": 4,
 "nbformat_minor": 2
}
