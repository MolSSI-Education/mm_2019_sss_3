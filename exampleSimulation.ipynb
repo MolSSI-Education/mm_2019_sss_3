{
 "cells": [
  {
   "cell_type": "markdown",
   "metadata": {},
   "source": [
    "# Mcpy\n",
    "## MolSSI Summer School -- Domain Specific Project\n",
    "### -- Van Nguyen, Brian Nguyen, Joel Ricci, Sabiha Rustam, and Brandon Butler\n",
    "\n",
    "### 2019-07-31"
   ]
  },
  {
   "cell_type": "markdown",
   "metadata": {},
   "source": [
    "### Import necessary modules"
   ]
  },
  {
   "cell_type": "code",
   "execution_count": 12,
   "metadata": {},
   "outputs": [],
   "source": [
    "import numpy as np\n",
    "import mcpy.particles\n",
    "import mcpy.box\n",
    "import mcpy.pairwise\n",
    "#import mccpp.pairwise\n",
    "import mccpp.pairwise\n",
    "import mcpy.integrator\n",
    "import mcpy.mcsimulation\n",
    "from timeit import default_timer as timer"
   ]
  },
  {
   "cell_type": "markdown",
   "metadata": {},
   "source": [
    "### Set up simulation parameters"
   ]
  },
  {
   "cell_type": "code",
   "execution_count": 13,
   "metadata": {},
   "outputs": [],
   "source": [
    "reduced_temperature = 0.9\n",
    "reduced_density = 0.9\n",
    "num_part = 500"
   ]
  },
  {
   "cell_type": "markdown",
   "metadata": {},
   "source": [
    "## Initialize objects\n",
    "\n",
    "* Box -- holds the box dimensions and can manipulate periodic\n",
    "  points\n",
    "* Particles -- holds the particle's coordinates and number\n",
    "  with the potential to later aggregate other quantities\n",
    "* LJ -- computes the pairwise potential of a series of\n",
    "  points\n",
    "* Integrator -- Class that actually performs the displacement\n",
    "  trial move\n",
    "* MCSimulation -- Interfaces all the classes correctly together."
   ]
  },
  {
   "cell_type": "code",
   "execution_count": 14,
   "metadata": {},
   "outputs": [],
   "source": [
    "box_dims = np.full(3, np.cbrt(num_part / reduced_density))\n",
    "box = mcpy.box.Box(box_dims=box_dims)\n",
    "part = mcpy.particles.Particles.from_random(num_particles=num_part,\n",
    "                                            box_dims=box.box_dims)\n",
    "lj = mcpy.pairwise.LJ(cutoff=3.)\n",
    "intg = mcpy.integrator.Integrator(1/reduced_temperature)\n",
    "mc = mcpy.mcsimulation.MCSimulation()"
   ]
  },
  {
   "cell_type": "markdown",
   "metadata": {},
   "source": [
    "### Add objects to MCSimulation object"
   ]
  },
  {
   "cell_type": "code",
   "execution_count": 15,
   "metadata": {},
   "outputs": [],
   "source": [
    "mc.add_integrator(intg)\n",
    "mc.add_box(box)\n",
    "mc.add_particles(part)\n",
    "mc.add_potential(lj)"
   ]
  },
  {
   "cell_type": "markdown",
   "metadata": {},
   "source": [
    "### Runs Simulation for 1 Million Steps"
   ]
  },
  {
   "cell_type": "code",
   "execution_count": null,
   "metadata": {},
   "outputs": [],
   "source": [
    "t1 = timer()\n",
    "mc.run(1000000)\n",
    "t2 = timer()"
   ]
  },
  {
   "cell_type": "code",
   "execution_count": null,
   "metadata": {},
   "outputs": [],
   "source": [
    "print(\"1 million steps in {:4d} sec\".format(int(t2 - t1)))\n",
    "print(\"{:5d} steps per second.\".format(int(1e6/(t2 - t1))))"
   ]
  },
  {
   "cell_type": "markdown",
   "metadata": {},
   "source": [
    "## Original Script"
   ]
  },
  {
   "cell_type": "code",
   "execution_count": null,
   "metadata": {},
   "outputs": [],
   "source": [
    "t1 = timer()\n",
    "%run day_1.py\n",
    "t2 = timer()"
   ]
  },
  {
   "cell_type": "code",
   "execution_count": null,
   "metadata": {},
   "outputs": [],
   "source": [
    "print(\"One hundred thousand steps in {:4d} sec\".format(int(t2 - t1)))\n",
    "print(\"{:5d} steps per second.\".format(int(1e5/(t2 - t1))))"
   ]
  },
  {
   "cell_type": "markdown",
   "metadata": {},
   "source": [
    "## Numpy Speedup"
   ]
  },
  {
   "cell_type": "code",
   "execution_count": null,
   "metadata": {},
   "outputs": [],
   "source": [
    "print(\"Numpy code is {} times faster.\".format(2330/101))"
   ]
  },
  {
   "cell_type": "code",
   "execution_count": null,
   "metadata": {},
   "outputs": [],
   "source": []
  }
 ],
 "metadata": {
  "kernelspec": {
   "display_name": "Python 3",
   "language": "python",
   "name": "python3"
  },
  "language_info": {
   "codemirror_mode": {
    "name": "ipython",
    "version": 3
   },
   "file_extension": ".py",
   "mimetype": "text/x-python",
   "name": "python",
   "nbconvert_exporter": "python",
   "pygments_lexer": "ipython3",
   "version": "3.6.7"
  }
 },
 "nbformat": 4,
 "nbformat_minor": 2
}
