{
 "cells": [
  {
   "cell_type": "markdown",
   "metadata": {},
   "source": [
    "# Mcpy\n",
    "## MolSSI Summer School -- Domain Specific Project\n",
    "### -- Van Nguyen, Brian Nguyen, Joel Ricci, Sabiha Rustam, and Brandon Butler\n",
    "\n",
    "### 2019-07-31"
   ]
  },
  {
   "cell_type": "markdown",
   "metadata": {},
   "source": [
    "### Import necessary modules"
   ]
  },
  {
   "cell_type": "code",
   "execution_count": 1,
   "metadata": {},
   "outputs": [],
   "source": [
    "import numpy as np\n",
    "import mcpy.particles\n",
    "import mcpy.box\n",
    "import mcpy.pairwise\n",
    "import mcpy.integrator\n",
    "import mcpy.mcsimulation\n",
    "from timeit import default_timer as timer"
   ]
  },
  {
   "cell_type": "markdown",
   "metadata": {},
   "source": [
    "### Set up simulation parameters"
   ]
  },
  {
   "cell_type": "code",
   "execution_count": 2,
   "metadata": {},
   "outputs": [],
   "source": [
    "reduced_temperature = 0.9\n",
    "reduced_density = 0.9\n",
    "num_part = 500"
   ]
  },
  {
   "cell_type": "markdown",
   "metadata": {},
   "source": [
    "## Initialize objects\n",
    "\n",
    "* Box -- holds the box dimensions and can manipulate periodic\n",
    "  points\n",
    "* Particles -- holds the particle's coordinates and number\n",
    "  with the potential to later aggregate other quantities\n",
    "* LJ -- computes the pairwise potential of a series of\n",
    "  points\n",
    "* Integrator -- Class that actually performs the displacement\n",
    "  trial move\n",
    "* MCSimulation -- Interfaces all the classes correctly together."
   ]
  },
  {
   "cell_type": "code",
   "execution_count": 3,
   "metadata": {},
   "outputs": [],
   "source": [
    "box_dims = np.full(3, np.cbrt(num_part / reduced_density))\n",
    "box = mcpy.box.Box(box_dims=box_dims)\n",
    "part = mcpy.particles.Particles.from_random(num_particles=num_part,\n",
    "                                            box_dims=box.box_dims)\n",
    "lj = mcpy.pairwise.LJ(cutoff=3.)\n",
    "intg = mcpy.integrator.Integrator(1/reduced_temperature, lj)\n",
    "mc = mcpy.mcsimulation.MCSimulation()"
   ]
  },
  {
   "cell_type": "markdown",
   "metadata": {},
   "source": [
    "### Add objects to MCSimulation object"
   ]
  },
  {
   "cell_type": "code",
   "execution_count": 4,
   "metadata": {},
   "outputs": [],
   "source": [
    "mc.add_integrator(intg)\n",
    "mc.add_box(box)\n",
    "mc.add_particles(part)\n",
    "mc.add_potential(lj)"
   ]
  },
  {
   "cell_type": "markdown",
   "metadata": {},
   "source": [
    "### Runs Simulation for 1 Million Steps"
   ]
  },
  {
   "cell_type": "code",
   "execution_count": 5,
   "metadata": {},
   "outputs": [
    {
     "name": "stdout",
     "output_type": "stream",
     "text": [
      "Step 10000, Energy 15.956243652131418, Acceptance Rates [0.4061]\n",
      "Step 20000, Energy -3.182364981226443, Acceptance Rates [0.3623]\n",
      "Step 30000, Energy -4.992145929287123, Acceptance Rates [0.36263333]\n",
      "Step 40000, Energy -5.529337650762858, Acceptance Rates [0.37925]\n",
      "Step 50000, Energy -5.690293075175442, Acceptance Rates [0.3997]\n",
      "Step 60000, Energy -5.851567690389807, Acceptance Rates [0.41661667]\n",
      "Step 70000, Energy -5.900387861490481, Acceptance Rates [0.42972857]\n",
      "Step 80000, Energy -5.882899231202563, Acceptance Rates [0.4342]\n",
      "Step 90000, Energy -6.079754830179244, Acceptance Rates [0.43528889]\n",
      "Step 100000, Energy -6.026240422622935, Acceptance Rates [0.43209]\n",
      "Step 110000, Energy -6.095336989549499, Acceptance Rates [0.42574545]\n",
      "Step 120000, Energy -6.056302125474725, Acceptance Rates [0.41706667]\n",
      "Step 130000, Energy -6.0844368585905855, Acceptance Rates [0.41031538]\n",
      "Step 140000, Energy -6.137609855465156, Acceptance Rates [0.40441429]\n",
      "Step 150000, Energy -6.1635210578963955, Acceptance Rates [0.39908]\n",
      "Step 160000, Energy -6.1478327151152445, Acceptance Rates [0.39404375]\n",
      "Step 170000, Energy -6.1308519614372186, Acceptance Rates [0.39027059]\n",
      "Step 180000, Energy -6.149209115217361, Acceptance Rates [0.38680556]\n",
      "Step 190000, Energy -6.203357913314271, Acceptance Rates [0.38397895]\n",
      "Step 200000, Energy -6.131091004054552, Acceptance Rates [0.381225]\n",
      "Step 210000, Energy -6.113105113814448, Acceptance Rates [0.37911905]\n",
      "Step 220000, Energy -6.117178333431499, Acceptance Rates [0.37920455]\n",
      "Step 230000, Energy -6.200572925799068, Acceptance Rates [0.38068261]\n",
      "Step 240000, Energy -6.150763447076084, Acceptance Rates [0.38238333]\n",
      "Step 250000, Energy -6.1480228563582235, Acceptance Rates [0.384336]\n",
      "Step 260000, Energy -6.227122432279289, Acceptance Rates [0.38606154]\n",
      "Step 270000, Energy -6.1868948941943245, Acceptance Rates [0.38751481]\n",
      "Step 280000, Energy -6.1555453586191495, Acceptance Rates [0.38875714]\n",
      "Step 290000, Energy -6.157928724445897, Acceptance Rates [0.38996207]\n",
      "Step 300000, Energy -6.150810118458672, Acceptance Rates [0.39094667]\n",
      "Step 310000, Energy -6.200328431111121, Acceptance Rates [0.39219677]\n",
      "Step 320000, Energy -6.1577459882878545, Acceptance Rates [0.393275]\n",
      "Step 330000, Energy -6.158425818761716, Acceptance Rates [0.3944303]\n",
      "Step 340000, Energy -6.259760374473518, Acceptance Rates [0.39567353]\n",
      "Step 350000, Energy -6.130983609476136, Acceptance Rates [0.39683143]\n",
      "Step 360000, Energy -6.1552752116818175, Acceptance Rates [0.39753611]\n",
      "Step 370000, Energy -6.235389683487368, Acceptance Rates [0.39836757]\n",
      "Step 380000, Energy -6.18089290652207, Acceptance Rates [0.39904211]\n",
      "Step 390000, Energy -6.162577337124416, Acceptance Rates [0.39954103]\n",
      "Step 400000, Energy -6.113317291099484, Acceptance Rates [0.400195]\n",
      "Step 410000, Energy -6.22464284150568, Acceptance Rates [0.40079756]\n",
      "Step 420000, Energy -6.159904017212237, Acceptance Rates [0.40132619]\n",
      "Step 430000, Energy -6.249644795475123, Acceptance Rates [0.40202093]\n",
      "Step 440000, Energy -6.201482952292612, Acceptance Rates [0.40254091]\n",
      "Step 450000, Energy -6.191496638320613, Acceptance Rates [0.40304889]\n",
      "Step 460000, Energy -6.20071917340276, Acceptance Rates [0.40357391]\n",
      "Step 470000, Energy -6.235141722692457, Acceptance Rates [0.40405532]\n",
      "Step 480000, Energy -6.2830375286538676, Acceptance Rates [0.40452083]\n",
      "Step 490000, Energy -6.21204051200215, Acceptance Rates [0.40502653]\n",
      "Step 500000, Energy -6.150138781826607, Acceptance Rates [0.405522]\n",
      "Step 510000, Energy -6.219986051158811, Acceptance Rates [0.40586078]\n",
      "Step 520000, Energy -6.230748707780127, Acceptance Rates [0.4062]\n",
      "Step 530000, Energy -6.120436473586978, Acceptance Rates [0.40642453]\n",
      "Step 540000, Energy -6.199883061030312, Acceptance Rates [0.40668333]\n",
      "Step 550000, Energy -6.17137999934037, Acceptance Rates [0.40712]\n",
      "Step 560000, Energy -6.113820663257434, Acceptance Rates [0.4072125]\n",
      "Step 570000, Energy -6.089375464822677, Acceptance Rates [0.40734035]\n",
      "Step 580000, Energy -6.207833702559891, Acceptance Rates [0.40745172]\n",
      "Step 590000, Energy -6.1029989630307995, Acceptance Rates [0.40774746]\n",
      "Step 600000, Energy -6.152590081611376, Acceptance Rates [0.40801833]\n",
      "Step 610000, Energy -6.141179607679369, Acceptance Rates [0.40814918]\n",
      "Step 620000, Energy -6.245861301588434, Acceptance Rates [0.40834194]\n",
      "Step 630000, Energy -6.174924714681339, Acceptance Rates [0.40864603]\n",
      "Step 640000, Energy -6.152767277489792, Acceptance Rates [0.40885938]\n",
      "Step 650000, Energy -6.10728220699156, Acceptance Rates [0.40913231]\n",
      "Step 660000, Energy -6.22711074115385, Acceptance Rates [0.40930152]\n",
      "Step 670000, Energy -6.235033888269936, Acceptance Rates [0.40954776]\n",
      "Step 680000, Energy -6.122440845122184, Acceptance Rates [0.40966471]\n",
      "Step 690000, Energy -6.161212516639798, Acceptance Rates [0.40988551]\n",
      "Step 700000, Energy -6.256761209027857, Acceptance Rates [0.41008]\n",
      "Step 710000, Energy -6.228497472111509, Acceptance Rates [0.41027465]\n",
      "Step 720000, Energy -6.16361429444438, Acceptance Rates [0.41038472]\n",
      "Step 730000, Energy -6.2111604124246815, Acceptance Rates [0.41039863]\n",
      "Step 740000, Energy -6.125926277602822, Acceptance Rates [0.41058784]\n",
      "Step 750000, Energy -6.144965645983532, Acceptance Rates [0.41081867]\n",
      "Step 760000, Energy -6.14475228920303, Acceptance Rates [0.41099474]\n",
      "Step 770000, Energy -6.172198226322211, Acceptance Rates [0.41108701]\n",
      "Step 780000, Energy -6.083874181892742, Acceptance Rates [0.41122692]\n",
      "Step 790000, Energy -6.188739120073439, Acceptance Rates [0.41134557]\n",
      "Step 800000, Energy -6.236197531260465, Acceptance Rates [0.41141]\n",
      "Step 810000, Energy -6.263883469287156, Acceptance Rates [0.41155802]\n",
      "Step 820000, Energy -6.25569744790122, Acceptance Rates [0.41159756]\n",
      "Step 830000, Energy -6.215797341054476, Acceptance Rates [0.41178072]\n",
      "Step 840000, Energy -6.261451442951259, Acceptance Rates [0.41193095]\n",
      "Step 850000, Energy -6.192458249301175, Acceptance Rates [0.41225647]\n",
      "Step 860000, Energy -6.15224895655608, Acceptance Rates [0.41230581]\n",
      "Step 870000, Energy -6.219874295748216, Acceptance Rates [0.41235287]\n",
      "Step 880000, Energy -6.182083797940672, Acceptance Rates [0.41250341]\n",
      "Step 890000, Energy -6.223028878082893, Acceptance Rates [0.41259213]\n",
      "Step 900000, Energy -6.160790629657456, Acceptance Rates [0.41275333]\n",
      "Step 910000, Energy -6.188594731621954, Acceptance Rates [0.41284176]\n",
      "Step 920000, Energy -6.191661001036239, Acceptance Rates [0.41284565]\n",
      "Step 930000, Energy -6.164355668696116, Acceptance Rates [0.41292473]\n",
      "Step 940000, Energy -6.20930425847491, Acceptance Rates [0.41295638]\n",
      "Step 950000, Energy -6.200017654533178, Acceptance Rates [0.41307368]\n",
      "Step 960000, Energy -6.2144898188339175, Acceptance Rates [0.41317292]\n",
      "Step 970000, Energy -6.177227350769597, Acceptance Rates [0.41328763]\n",
      "Step 980000, Energy -6.162568821812668, Acceptance Rates [0.41339796]\n",
      "Step 990000, Energy -6.206115296419429, Acceptance Rates [0.41348384]\n",
      "Step 1000000, Energy -6.178801764260441, Acceptance Rates [0.413571]\n"
     ]
    }
   ],
   "source": [
    "t1 = timer()\n",
    "mc.run(1000000)\n",
    "t2 = timer()"
   ]
  },
  {
   "cell_type": "code",
   "execution_count": 6,
   "metadata": {},
   "outputs": [
    {
     "name": "stdout",
     "output_type": "stream",
     "text": [
      "1 million steps in  181 sec\n",
      " 5507 steps per second.\n"
     ]
    }
   ],
   "source": [
    "print(\"1 million steps in {:4d} sec\".format(int(t2 - t1)))\n",
    "print(\"{:5d} steps per second.\".format(int(1e6/(t2 - t1))))"
   ]
  },
  {
   "cell_type": "markdown",
   "metadata": {},
   "source": [
    "## Original Script"
   ]
  },
  {
   "cell_type": "code",
   "execution_count": 2,
   "metadata": {},
   "outputs": [
    {
     "name": "stdout",
     "output_type": "stream",
     "text": [
      "10000 19.798824973070236\n",
      "20000 -2.9759832816845586\n",
      "30000 -4.611922765037576\n",
      "40000 -5.194457115823781\n",
      "50000 -5.3639376222944515\n",
      "60000 -5.569758272432635\n",
      "70000 -5.598679421719672\n",
      "80000 -5.746408552528176\n",
      "90000 -5.823586931786598\n",
      "100000 -5.762876280797563\n"
     ]
    }
   ],
   "source": [
    "t1 = timer()\n",
    "%run day_1.py\n",
    "t2 = timer()"
   ]
  },
  {
   "cell_type": "code",
   "execution_count": 5,
   "metadata": {},
   "outputs": [
    {
     "name": "stdout",
     "output_type": "stream",
     "text": [
      "One hundred thousand steps in    771 sec\n",
      "  129 steps per second.\n"
     ]
    }
   ],
   "source": [
    "print(\"One hundred thousand steps in {:6d} sec\".format(int(t2 - t1)))\n",
    "print(\"{:5d} steps per second.\".format(int(1e5/(t2 - t1))))"
   ]
  },
  {
   "cell_type": "markdown",
   "metadata": {},
   "source": [
    "### Numpy Speed Up"
   ]
  },
  {
   "cell_type": "code",
   "execution_count": 6,
   "metadata": {},
   "outputs": [
    {
     "name": "stdout",
     "output_type": "stream",
     "text": [
      "Speed up by a factor of 42.689922480620154\n"
     ]
    }
   ],
   "source": [
    "print(\"Speed up by a factor of {}\".format(5507/129))"
   ]
  }
 ],
 "metadata": {
  "kernelspec": {
   "display_name": "Python 3",
   "language": "python",
   "name": "python3"
  },
  "language_info": {
   "codemirror_mode": {
    "name": "ipython",
    "version": 3
   },
   "file_extension": ".py",
   "mimetype": "text/x-python",
   "name": "python",
   "nbconvert_exporter": "python",
   "pygments_lexer": "ipython3",
   "version": "3.6.8"
  }
 },
 "nbformat": 4,
 "nbformat_minor": 2
}
