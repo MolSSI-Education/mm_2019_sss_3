{
 "cells": [
  {
   "cell_type": "markdown",
   "metadata": {},
   "source": [
    "# Mcpy\n",
    "## MolSSI Summer School -- Domain Specific Project\n",
    "### -- Van Nguyen, Brian Nguyen, Joel Ricci, Sabiha Rustam, and Brandon Butler\n",
    "\n",
    "### 2019-07-31"
   ]
  },
  {
   "cell_type": "markdown",
   "metadata": {},
   "source": [
    "### Import necessary modules"
   ]
  },
  {
   "cell_type": "code",
   "execution_count": 41,
   "metadata": {},
   "outputs": [],
   "source": [
    "import numpy as np\n",
    "import mcpy.particles\n",
    "import mcpy.box\n",
    "import mcpy.integrator\n",
    "import mcpy.mcsimulation\n",
    "from timeit import default_timer as timer"
   ]
  },
  {
   "cell_type": "markdown",
   "metadata": {},
   "source": [
    "#### Import both the pure python and c++/python pairwise modules"
   ]
  },
  {
   "cell_type": "code",
   "execution_count": null,
   "metadata": {},
   "outputs": [],
   "source": [
    "import mcpy.pairwise\n",
    "import mccpp.pairwise"
   ]
  },
  {
   "cell_type": "markdown",
   "metadata": {},
   "source": [
    "### Set up simulation parameters"
   ]
  },
  {
   "cell_type": "code",
   "execution_count": 27,
   "metadata": {},
   "outputs": [],
   "source": [
    "reduced_temperature = 0.9\n",
    "reduced_density = 0.9\n",
    "num_part = 500"
   ]
  },
  {
   "cell_type": "markdown",
   "metadata": {},
   "source": [
    "## Initialize objects\n",
    "\n",
    "* Box -- holds the box dimensions and can manipulate periodic\n",
    "  points\n",
    "* Particles -- holds the particle's coordinates and number\n",
    "  with the potential to later aggregate other quantities\n",
    "* LJ -- computes the pairwise potential of a series of\n",
    "  points\n",
    "* Integrator -- Class that actually performs the displacement\n",
    "  trial move\n",
    "* MCSimulation -- Interfaces all the classes correctly together."
   ]
  },
  {
   "cell_type": "code",
   "execution_count": 28,
   "metadata": {},
   "outputs": [],
   "source": [
    "box_dims = np.full(3, np.cbrt(num_part / reduced_density))\n",
    "box = mcpy.box.Box(box_dims=box_dims)\n",
    "part = mcpy.particles.Particles.from_random(num_particles=num_part,\n",
    "                                            box_dims=box.box_dims)\n",
    "# Python Object\n",
    "lj_py = mcpy.pairwise.LJ(cutoff=3.)\n",
    "# C++/PYBIND Object\n",
    "lj_cpp = mccpp.pairwise.LJ(cutoff=3.)\n",
    "\n",
    "intg = mcpy.integrator.Integrator(1/reduced_temperature)"
   ]
  },
  {
   "cell_type": "markdown",
   "metadata": {},
   "source": [
    "## Python Implementation\n",
    "### Create and add objects to MCSimulation object"
   ]
  },
  {
   "cell_type": "code",
   "execution_count": 31,
   "metadata": {},
   "outputs": [],
   "source": [
    "mc_1 = mcpy.mcsimulation.MCSimulation()\n",
    "\n",
    "mc_1.add_integrator(intg)\n",
    "mc_1.add_box(box)\n",
    "mc_1.add_particles(part)"
   ]
  },
  {
   "cell_type": "markdown",
   "metadata": {},
   "source": [
    "### Adding the python LJ object"
   ]
  },
  {
   "cell_type": "code",
   "execution_count": 33,
   "metadata": {},
   "outputs": [],
   "source": [
    "mc_1.add_potential(lj_py)"
   ]
  },
  {
   "cell_type": "markdown",
   "metadata": {},
   "source": [
    "### Py LJ class: Runs Simulation for 100,000 steps"
   ]
  },
  {
   "cell_type": "code",
   "execution_count": 34,
   "metadata": {},
   "outputs": [
    {
     "name": "stdout",
     "output_type": "stream",
     "text": [
      "Step 10000, Energy 14.930766960348535, Acceptance Rates [0.4154]\n",
      "Step 20000, Energy -3.1001964247203952, Acceptance Rates [0.37065]\n",
      "Step 30000, Energy -5.12895092622224, Acceptance Rates [0.3679]\n",
      "Step 40000, Energy -5.573390514143759, Acceptance Rates [0.3846]\n",
      "Step 50000, Energy -5.730004343753291, Acceptance Rates [0.396]\n",
      "Step 60000, Energy -5.811393549070274, Acceptance Rates [0.40588333]\n",
      "Step 70000, Energy -5.9200255561047435, Acceptance Rates [0.41298571]\n",
      "Step 80000, Energy -5.968260560632954, Acceptance Rates [0.41845]\n",
      "Step 90000, Energy -6.002809843398372, Acceptance Rates [0.42507778]\n",
      "Step 100000, Energy -5.99055150947623, Acceptance Rates [0.42697]\n"
     ]
    }
   ],
   "source": [
    "t1 = timer()\n",
    "mc_1.run(100000)\n",
    "t2 = timer()"
   ]
  },
  {
   "cell_type": "code",
   "execution_count": 35,
   "metadata": {},
   "outputs": [
    {
     "name": "stdout",
     "output_type": "stream",
     "text": [
      "Python LJ Class: 100,000 steps in   22 sec\n",
      "43899 steps per second.\n"
     ]
    }
   ],
   "source": [
    "print(\"Python LJ Class: 100,000 steps in {:4d} sec\".format(int(t2 - t1)))\n",
    "print(\"{:5d} steps per second.\".format(int(1e6/(t2 - t1))))"
   ]
  },
  {
   "cell_type": "markdown",
   "metadata": {},
   "source": [
    "## C++ Implementation\n",
    "### Create and add objects to MCSimulation object"
   ]
  },
  {
   "cell_type": "code",
   "execution_count": 36,
   "metadata": {},
   "outputs": [],
   "source": [
    "mc_2 = mcpy.mcsimulation.MCSimulation()\n",
    "\n",
    "mc_2.add_integrator(intg)\n",
    "mc_2.add_box(box)\n",
    "mc_2.add_particles(part)"
   ]
  },
  {
   "cell_type": "markdown",
   "metadata": {},
   "source": [
    "### Adding the C++ LJ object"
   ]
  },
  {
   "cell_type": "code",
   "execution_count": 37,
   "metadata": {},
   "outputs": [],
   "source": [
    "mc_2.add_potential(lj_cpp)"
   ]
  },
  {
   "cell_type": "markdown",
   "metadata": {},
   "source": [
    "### C++ LJ class: Runs Simulation for 100,000 steps"
   ]
  },
  {
   "cell_type": "code",
   "execution_count": 38,
   "metadata": {},
   "outputs": [
    {
     "name": "stdout",
     "output_type": "stream",
     "text": [
      "Step 10000, Energy -6.113956233473307, Acceptance Rates [0.4018]\n",
      "Step 20000, Energy -6.04461480800406, Acceptance Rates [0.4022]\n",
      "Step 30000, Energy -6.1033576545226325, Acceptance Rates [0.40386667]\n",
      "Step 40000, Energy -6.107326511027829, Acceptance Rates [0.403575]\n",
      "Step 50000, Energy -6.148701738306221, Acceptance Rates [0.40304]\n",
      "Step 60000, Energy -6.136297435702068, Acceptance Rates [0.40366667]\n",
      "Step 70000, Energy -6.134261982488871, Acceptance Rates [0.40352857]\n",
      "Step 80000, Energy -6.128953833951505, Acceptance Rates [0.4047125]\n",
      "Step 90000, Energy -6.166120698390126, Acceptance Rates [0.40544444]\n",
      "Step 100000, Energy -6.157465487534668, Acceptance Rates [0.40571]\n"
     ]
    }
   ],
   "source": [
    "t1 = timer()\n",
    "mc_2.run(100000)\n",
    "t2 = timer()"
   ]
  },
  {
   "cell_type": "code",
   "execution_count": 39,
   "metadata": {},
   "outputs": [
    {
     "name": "stdout",
     "output_type": "stream",
     "text": [
      "C++ LJ Class: 100,000 steps in   43 sec\n",
      "23110 steps per second.\n"
     ]
    }
   ],
   "source": [
    "print(\"C++ LJ Class: 100,000 steps in {:4d} sec\".format(int(t2 - t1)))\n",
    "print(\"{:5d} steps per second.\".format(int(1e6/(t2 - t1))))"
   ]
  },
  {
   "cell_type": "markdown",
   "metadata": {},
   "source": [
    "### Comparing"
   ]
  },
  {
   "cell_type": "code",
   "execution_count": 40,
   "metadata": {},
   "outputs": [
    {
     "name": "stdout",
     "output_type": "stream",
     "text": [
      "Numpy code is 1.8995672868887927 times faster.\n"
     ]
    }
   ],
   "source": [
    "print(\"Numpy code is {} times faster.\".format(43899/23110))"
   ]
  }
 ],
 "metadata": {
  "kernelspec": {
   "display_name": "Python 3",
   "language": "python",
   "name": "python3"
  },
  "language_info": {
   "codemirror_mode": {
    "name": "ipython",
    "version": 3
   },
   "file_extension": ".py",
   "mimetype": "text/x-python",
   "name": "python",
   "nbconvert_exporter": "python",
   "pygments_lexer": "ipython3",
   "version": "3.6.7"
  }
 },
 "nbformat": 4,
 "nbformat_minor": 2
}
