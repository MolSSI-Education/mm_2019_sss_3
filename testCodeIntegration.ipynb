{
 "cells": [
  {
   "cell_type": "code",
   "execution_count": 5,
   "metadata": {},
   "outputs": [],
   "source": [
    "import numpy as np\n",
    "import mcpy.particles\n",
    "import mcpy.box\n",
    "import mcpy.pairwise\n",
    "import mcpy.integrator\n",
    "import mcpy.mcsimulation\n",
    "from timeit import default_timer as timer"
   ]
  },
  {
   "cell_type": "code",
   "execution_count": 6,
   "metadata": {},
   "outputs": [],
   "source": [
    "reduced_temperature = 0.9\n",
    "reduced_density = 0.9\n",
    "num_part = 5000\n",
    "box_dims = np.full(3, np.cbrt(num_part / reduced_density))\n",
    "box = mcpy.box.Box(box_dims=box_dims)\n",
    "part = mcpy.particles.Particles.from_random(num_particles=num_part,\n",
    "                                            box_dims=box.box_dims)\n",
    "lj = mcpy.pairwise.LJ(cutoff=3.)\n",
    "intg = mcpy.integrator.Integrator(1/reduced_temperature, lj)\n",
    "mc = mcpy.mcsimulation.MCSimulation()"
   ]
  },
  {
   "cell_type": "code",
   "execution_count": 7,
   "metadata": {},
   "outputs": [
    {
     "name": "stdout",
     "output_type": "stream",
     "text": [
      "0.0\n"
     ]
    }
   ],
   "source": [
    "rij2 = box.minimum_image_distance(part.coordinates[0],\n",
    "                                 part.coordinates[part.coordinates !=\n",
    "                                                 part.coordinates[0]].\n",
    "                                 reshape((-1, 3)))\n",
    "pair_e = lj(rij2)\n",
    "pair_e2 = intg.get_particle_energy(part, box, 0)\n",
    "print(pair_e - pair_e2)"
   ]
  },
  {
   "cell_type": "code",
   "execution_count": 8,
   "metadata": {},
   "outputs": [],
   "source": [
    "mc.add_integrator(intg)\n",
    "mc.add_box(box)\n",
    "mc.add_particles(part)\n",
    "mc.add_potential(lj)"
   ]
  },
  {
   "cell_type": "code",
   "execution_count": null,
   "metadata": {},
   "outputs": [
    {
     "name": "stdout",
     "output_type": "stream",
     "text": [
      "Step 10000, Energy 4362144828907.1807, Acceptance Rates [0.4955]\n",
      "Step 20000, Energy 1099760.5213991567, Acceptance Rates [0.48125]\n",
      "Step 30000, Energy 218986.11050538448, Acceptance Rates [0.46276667]\n",
      "Step 40000, Energy 3616.379141756652, Acceptance Rates [0.446375]\n",
      "Step 50000, Energy 609.9378870085278, Acceptance Rates [0.42866]\n",
      "Step 60000, Energy 297.60857825787355, Acceptance Rates [0.41161667]\n",
      "Step 70000, Energy 67.65317760183724, Acceptance Rates [0.39591429]\n",
      "Step 80000, Energy 28.84868366866137, Acceptance Rates [0.3815875]\n",
      "Step 90000, Energy 16.314826768105338, Acceptance Rates [0.36888889]\n",
      "Step 100000, Energy 9.317077069596444, Acceptance Rates [0.36059]\n",
      "Step 110000, Energy 5.061223483453126, Acceptance Rates [0.3544]\n",
      "Step 120000, Energy 2.3656709455206366, Acceptance Rates [0.34994167]\n",
      "Step 130000, Energy 0.7439018529937449, Acceptance Rates [0.34736923]\n",
      "Step 140000, Energy -0.4888371482986908, Acceptance Rates [0.3475]\n",
      "Step 150000, Energy -1.3301341961063944, Acceptance Rates [0.34913333]\n",
      "Step 160000, Energy -2.0244993607320994, Acceptance Rates [0.3524375]\n",
      "Step 170000, Energy -2.4873346958874007, Acceptance Rates [0.35753529]\n",
      "Step 180000, Energy -2.872315452256422, Acceptance Rates [0.36388889]\n",
      "Step 190000, Energy -3.144925757782247, Acceptance Rates [0.37162632]\n",
      "Step 200000, Energy -3.3741582792123155, Acceptance Rates [0.38035]\n",
      "Step 210000, Energy -3.5572716482219433, Acceptance Rates [0.38792857]\n",
      "Step 220000, Energy -3.7168780718147136, Acceptance Rates [0.39540455]\n",
      "Step 230000, Energy -3.8461220921189785, Acceptance Rates [0.40251304]\n",
      "Step 240000, Energy -3.9723704074052284, Acceptance Rates [0.409025]\n",
      "Step 250000, Energy -4.102209571928988, Acceptance Rates [0.415416]\n",
      "Step 260000, Energy -4.193746178071023, Acceptance Rates [0.42115]\n",
      "Step 270000, Energy -4.2762090396909, Acceptance Rates [0.42541111]\n",
      "Step 280000, Energy -4.378529626808481, Acceptance Rates [0.42808929]\n",
      "Step 290000, Energy -4.460881002631305, Acceptance Rates [0.42943103]\n",
      "Step 300000, Energy -4.523322913660357, Acceptance Rates [0.42974333]\n",
      "Step 310000, Energy -4.617334577948626, Acceptance Rates [0.42903226]\n",
      "Step 320000, Energy -4.678946998691516, Acceptance Rates [0.42740937]\n",
      "Step 330000, Energy -4.7416474502907136, Acceptance Rates [0.42476364]\n",
      "Step 340000, Energy -4.834021919915987, Acceptance Rates [0.42128529]\n",
      "Step 350000, Energy -4.879272846362774, Acceptance Rates [0.41730286]\n",
      "Step 360000, Energy -4.940425785505071, Acceptance Rates [0.41325556]\n",
      "Step 370000, Energy -4.999604726932489, Acceptance Rates [0.40994595]\n",
      "Step 380000, Energy -5.047015557070014, Acceptance Rates [0.40624737]\n",
      "Step 390000, Energy -5.081128046640993, Acceptance Rates [0.40307949]\n",
      "Step 400000, Energy -5.106600439501561, Acceptance Rates [0.4001125]\n",
      "Step 410000, Energy -5.138912952600328, Acceptance Rates [0.39739756]\n",
      "Step 420000, Energy -5.165663730215202, Acceptance Rates [0.39482381]\n",
      "Step 430000, Energy -5.206125861683141, Acceptance Rates [0.39230465]\n",
      "Step 440000, Energy -5.260919973849721, Acceptance Rates [0.39]\n",
      "Step 450000, Energy -5.283950203846792, Acceptance Rates [0.38775556]\n",
      "Step 460000, Energy -5.312829826300561, Acceptance Rates [0.38561739]\n"
     ]
    }
   ],
   "source": [
    "t1 = timer()\n",
    "mc.run(500000)\n",
    "t2 = timer()"
   ]
  },
  {
   "cell_type": "code",
   "execution_count": 6,
   "metadata": {},
   "outputs": [
    {
     "name": "stdout",
     "output_type": "stream",
     "text": [
      "1 million steps in  104 sec\n",
      " 9608 steps per second.\n"
     ]
    }
   ],
   "source": [
    "# PYTHON\n",
    "print(\"1 million steps in {:4d} sec\".format(int(t2 - t1)))\n",
    "print(\"{:5d} steps per second.\".format(int(1e6/(t2 - t1))))"
   ]
  },
  {
   "cell_type": "code",
   "execution_count": 6,
   "metadata": {},
   "outputs": [
    {
     "name": "stdout",
     "output_type": "stream",
     "text": [
      "1 million steps in   26 sec\n",
      "37752 steps per second.\n"
     ]
    }
   ],
   "source": [
    "# PYTHON\n",
    "print(\"1 million steps in {:4d} sec\".format(int(t2 - t1)))\n",
    "print(\"{:5d} steps per second.\".format(int(1e6/(t2 - t1))))"
   ]
  }
 ],
 "metadata": {
  "kernelspec": {
   "display_name": "Python 3",
   "language": "python",
   "name": "python3"
  },
  "language_info": {
   "codemirror_mode": {
    "name": "ipython",
    "version": 3
   },
   "file_extension": ".py",
   "mimetype": "text/x-python",
   "name": "python",
   "nbconvert_exporter": "python",
   "pygments_lexer": "ipython3",
   "version": "3.6.7"
  }
 },
 "nbformat": 4,
 "nbformat_minor": 2
}
