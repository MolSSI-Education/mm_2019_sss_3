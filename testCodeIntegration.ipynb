{
 "cells": [
  {
   "cell_type": "code",
   "execution_count": 1,
   "metadata": {},
   "outputs": [],
   "source": [
    "import numpy as np\n",
    "import mcpy.particles\n",
    "import mcpy.box\n",
    "import mcpy.pairwise\n",
    "import mcpy.integrator\n",
    "import mcpy.mcsimulation"
   ]
  },
  {
   "cell_type": "code",
   "execution_count": 9,
   "metadata": {},
   "outputs": [],
   "source": [
    "reduced_density = 0.9\n",
    "num_part = 800\n",
    "box_dims = np.full(3, np.cbrt(num_part / reduced_density))\n",
    "box = mcpy.box.Box(box_dims=box_dims)\n",
    "part = mcpy.particles.Particles.from_random(num_particles=num_part,\n",
    "                                            box_dims=box.box_dims)\n",
    "lj = mcpy.pairwise.LJ(cutoff=3.)\n",
    "intg = mcpy.integrator.Integrator(lj)\n",
    "mc = mcpy.mcsimulation.MCSimulation(beta=0.9)"
   ]
  },
  {
   "cell_type": "code",
   "execution_count": 3,
   "metadata": {},
   "outputs": [
    {
     "name": "stdout",
     "output_type": "stream",
     "text": [
      "0.0\n"
     ]
    }
   ],
   "source": [
    "rij2 = box.minimum_image_distance(part.coordinates[0],\n",
    "                                 part.coordinates[part.coordinates !=\n",
    "                                                 part.coordinates[0]].\n",
    "                                 reshape((-1, 3)))\n",
    "pair_e = lj(rij2)\n",
    "pair_e2 = intg.get_particle_energy(part, box, 0)\n",
    "print(pair_e - pair_e2)"
   ]
  },
  {
   "cell_type": "code",
   "execution_count": 10,
   "metadata": {},
   "outputs": [],
   "source": [
    "mc.add_integrator(intg)\n",
    "mc.add_box(box)\n",
    "mc.add_particles(part)\n",
    "mc.add_potential(lj)"
   ]
  },
  {
   "cell_type": "code",
   "execution_count": 11,
   "metadata": {},
   "outputs": [
    {
     "name": "stdout",
     "output_type": "stream",
     "text": [
      "Step 10000, Energy 189.34423743048148, Acceptance Rates [0.4399]\n",
      "Step 20000, Energy 5.185683063803997, Acceptance Rates [0.3932]\n",
      "Step 30000, Energy -2.6571987826727947, Acceptance Rates [0.36666667]\n",
      "Step 40000, Energy -4.32234830905446, Acceptance Rates [0.3641]\n",
      "Step 50000, Energy -4.901725230767483, Acceptance Rates [0.37298]\n",
      "Step 50050, Energy -4.910728282940092, Acceptance Rates [0.37306693]\n"
     ]
    }
   ],
   "source": [
    "mc.run(50050)"
   ]
  },
  {
   "cell_type": "code",
   "execution_count": 12,
   "metadata": {},
   "outputs": [
    {
     "name": "stdout",
     "output_type": "stream",
     "text": [
      "Step 60000, Energy -5.169694533445395, Acceptance Rates [0.38915]\n",
      "Step 70000, Energy -5.416978029114516, Acceptance Rates [0.40258571]\n",
      "Step 80000, Energy -5.448803497042985, Acceptance Rates [0.41235]\n",
      "Step 90000, Energy -5.575795949330846, Acceptance Rates [0.41991111]\n",
      "Step 100000, Energy -5.6493784001983265, Acceptance Rates [0.42613]\n",
      "Step 110000, Energy -5.675336225098346, Acceptance Rates [0.42905455]\n",
      "Step 120000, Energy -5.7269060733117625, Acceptance Rates [0.4292]\n",
      "Step 130000, Energy -5.72024662091957, Acceptance Rates [0.42636154]\n",
      "Step 140000, Energy -5.801094512818309, Acceptance Rates [0.42058571]\n",
      "Step 150000, Energy -5.890598602716631, Acceptance Rates [0.41372]\n",
      "Step 150050, Energy -5.898260647842786, Acceptance Rates [0.41369543]\n"
     ]
    }
   ],
   "source": [
    "mc.run(100000)"
   ]
  },
  {
   "cell_type": "code",
   "execution_count": 14,
   "metadata": {},
   "outputs": [
    {
     "name": "stdout",
     "output_type": "stream",
     "text": [
      "Step 260000, Energy -5.895064205096578, Acceptance Rates [0.38135769]\n",
      "Step 270000, Energy -5.82559555773785, Acceptance Rates [0.38225185]\n",
      "Step 280000, Energy -5.880324670691121, Acceptance Rates [0.38321786]\n",
      "Step 290000, Energy -5.913182910250141, Acceptance Rates [0.3839069]\n",
      "Step 300000, Energy -5.891571618500705, Acceptance Rates [0.38444]\n",
      "Step 310000, Energy -5.894270789396827, Acceptance Rates [0.38530968]\n",
      "Step 320000, Energy -5.800214221282418, Acceptance Rates [0.38610625]\n",
      "Step 330000, Energy -5.844397727497463, Acceptance Rates [0.3867]\n",
      "Step 340000, Energy -5.845866314935621, Acceptance Rates [0.3872]\n",
      "Step 350000, Energy -5.839111263011797, Acceptance Rates [0.38772286]\n",
      "Step 350050, Energy -5.838585891457637, Acceptance Rates [0.38772747]\n"
     ]
    }
   ],
   "source": [
    "mc.run(100000)"
   ]
  },
  {
   "cell_type": "code",
   "execution_count": 15,
   "metadata": {},
   "outputs": [
    {
     "data": {
      "text/plain": [
       "-223.29999421217596"
      ]
     },
     "execution_count": 15,
     "metadata": {},
     "output_type": "execute_result"
    }
   ],
   "source": [
    "lj.cutoff_correction(box, 800)"
   ]
  },
  {
   "cell_type": "code",
   "execution_count": null,
   "metadata": {},
   "outputs": [],
   "source": []
  }
 ],
 "metadata": {
  "kernelspec": {
   "display_name": "Python 3",
   "language": "python",
   "name": "python3"
  },
  "language_info": {
   "codemirror_mode": {
    "name": "ipython",
    "version": 3
   },
   "file_extension": ".py",
   "mimetype": "text/x-python",
   "name": "python",
   "nbconvert_exporter": "python",
   "pygments_lexer": "ipython3",
   "version": "3.6.8"
  }
 },
 "nbformat": 4,
 "nbformat_minor": 2
}
