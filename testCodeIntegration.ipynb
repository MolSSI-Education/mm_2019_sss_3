{
 "cells": [
  {
   "cell_type": "code",
   "execution_count": 6,
   "metadata": {},
   "outputs": [],
   "source": [
    "import numpy as np\n",
    "import mcpy.particles\n",
    "import mcpy.box\n",
    "import mcpy.pairwise\n",
    "import mcpy.integrator\n",
    "import mcpy.mcsimulation\n",
    "from timeit import default_timer as timer"
   ]
  },
  {
   "cell_type": "code",
   "execution_count": 7,
   "metadata": {},
   "outputs": [],
   "source": [
    "reduced_temperature = 0.9\n",
    "reduced_density = 0.9\n",
    "num_part = 500\n",
    "box_dims = np.full(3, np.cbrt(num_part / reduced_density))\n",
    "box = mcpy.box.Box(box_dims=box_dims)\n",
    "part = mcpy.particles.Particles.from_random(num_particles=num_part,\n",
    "                                            box_dims=box.box_dims)\n",
    "lj = mcpy.pairwise.LJ(cutoff=3.)\n",
    "intg = mcpy.integrator.Integrator(1/reduced_temperature, lj)\n",
    "mc = mcpy.mcsimulation.MCSimulation()"
   ]
  },
  {
   "cell_type": "code",
   "execution_count": 8,
   "metadata": {},
   "outputs": [
    {
     "name": "stdout",
     "output_type": "stream",
     "text": [
      "0.0\n"
     ]
    }
   ],
   "source": [
    "rij2 = box.minimum_image_distance(part.coordinates[0],\n",
    "                                 part.coordinates[part.coordinates !=\n",
    "                                                 part.coordinates[0]].\n",
    "                                 reshape((-1, 3)))\n",
    "pair_e = lj(rij2)\n",
    "pair_e2 = intg.get_particle_energy(part, box, 0)\n",
    "print(pair_e - pair_e2)"
   ]
  },
  {
   "cell_type": "code",
   "execution_count": 9,
   "metadata": {},
   "outputs": [],
   "source": [
    "mc.add_integrator(intg)\n",
    "mc.add_box(box)\n",
    "mc.add_particles(part)\n",
    "mc.add_potential(lj)"
   ]
  },
  {
   "cell_type": "code",
   "execution_count": 10,
   "metadata": {},
   "outputs": [
    {
     "name": "stdout",
     "output_type": "stream",
     "text": [
      "Step 10000, Energy 20.559902863205785, Acceptance Rates [0.4044]\n",
      "Step 20000, Energy -3.0065526095329242, Acceptance Rates [0.37115]\n",
      "Step 30000, Energy -5.074372804183662, Acceptance Rates [0.37283333]\n",
      "Step 40000, Energy -5.529279551301262, Acceptance Rates [0.389075]\n",
      "Step 50000, Energy -5.7636413794268515, Acceptance Rates [0.40232]\n",
      "Step 60000, Energy -5.901286311122207, Acceptance Rates [0.41205]\n",
      "Step 70000, Energy -5.964328968442876, Acceptance Rates [0.42104286]\n",
      "Step 80000, Energy -5.894132960770187, Acceptance Rates [0.4226375]\n",
      "Step 90000, Energy -6.045572380966569, Acceptance Rates [0.42002222]\n",
      "Step 100000, Energy -6.10236585609884, Acceptance Rates [0.41396]\n",
      "Step 110000, Energy -6.0308501008509765, Acceptance Rates [0.40906364]\n",
      "Step 120000, Energy -6.048797424456038, Acceptance Rates [0.404625]\n",
      "Step 130000, Energy -6.045907663043908, Acceptance Rates [0.40153846]\n",
      "Step 140000, Energy -6.152671528585818, Acceptance Rates [0.3986]\n",
      "Step 150000, Energy -6.055467041048778, Acceptance Rates [0.39567333]\n",
      "Step 160000, Energy -6.1479969855808925, Acceptance Rates [0.39380625]\n",
      "Step 170000, Energy -6.1659656792196085, Acceptance Rates [0.39233529]\n",
      "Step 180000, Energy -6.125797569301684, Acceptance Rates [0.39117222]\n",
      "Step 190000, Energy -6.145043018643486, Acceptance Rates [0.39025789]\n",
      "Step 200000, Energy -6.101104259761855, Acceptance Rates [0.389205]\n",
      "Step 210000, Energy -6.0718751973261975, Acceptance Rates [0.38812857]\n",
      "Step 220000, Energy -6.175546331036517, Acceptance Rates [0.38710909]\n",
      "Step 230000, Energy -6.05654112444008, Acceptance Rates [0.3860087]\n",
      "Step 240000, Energy -6.1348547584147815, Acceptance Rates [0.38534167]\n",
      "Step 250000, Energy -6.14023793032743, Acceptance Rates [0.384532]\n",
      "Step 260000, Energy -6.148685304084927, Acceptance Rates [0.38389615]\n",
      "Step 270000, Energy -6.1208753080139395, Acceptance Rates [0.38349259]\n",
      "Step 280000, Energy -6.102989290568597, Acceptance Rates [0.38285357]\n",
      "Step 290000, Energy -6.114000067506886, Acceptance Rates [0.3826931]\n",
      "Step 300000, Energy -6.152407360443608, Acceptance Rates [0.38188667]\n",
      "Step 310000, Energy -6.123926866657708, Acceptance Rates [0.38148387]\n",
      "Step 320000, Energy -6.1109705095936855, Acceptance Rates [0.3811875]\n",
      "Step 330000, Energy -6.202829732408313, Acceptance Rates [0.38100606]\n",
      "Step 340000, Energy -6.180474131131034, Acceptance Rates [0.38071765]\n",
      "Step 350000, Energy -6.184609148090735, Acceptance Rates [0.38025143]\n",
      "Step 360000, Energy -6.148548582277846, Acceptance Rates [0.37994722]\n",
      "Step 370000, Energy -6.163287172621267, Acceptance Rates [0.38063514]\n",
      "Step 380000, Energy -6.129859604627865, Acceptance Rates [0.38141842]\n",
      "Step 390000, Energy -6.21081002270051, Acceptance Rates [0.38224103]\n",
      "Step 400000, Energy -6.101112818608686, Acceptance Rates [0.383035]\n",
      "Step 410000, Energy -6.140084567578218, Acceptance Rates [0.38379268]\n",
      "Step 420000, Energy -6.119773340081661, Acceptance Rates [0.38432381]\n",
      "Step 430000, Energy -6.186870168324345, Acceptance Rates [0.385]\n",
      "Step 440000, Energy -6.2270076610976215, Acceptance Rates [0.38574091]\n",
      "Step 450000, Energy -6.212472672038946, Acceptance Rates [0.38644667]\n",
      "Step 460000, Energy -6.249136215901497, Acceptance Rates [0.38709565]\n",
      "Step 470000, Energy -6.198802750312342, Acceptance Rates [0.38761489]\n",
      "Step 480000, Energy -6.203442888786349, Acceptance Rates [0.38842917]\n",
      "Step 490000, Energy -6.274500884523103, Acceptance Rates [0.38898367]\n",
      "Step 500000, Energy -6.200826542612233, Acceptance Rates [0.389522]\n",
      "Step 510000, Energy -6.263518567735228, Acceptance Rates [0.38979216]\n",
      "Step 520000, Energy -6.209938679038994, Acceptance Rates [0.39029808]\n",
      "Step 530000, Energy -6.198400163500176, Acceptance Rates [0.39063208]\n",
      "Step 540000, Energy -6.178242752639728, Acceptance Rates [0.39114259]\n",
      "Step 550000, Energy -6.2215844238033196, Acceptance Rates [0.39160364]\n",
      "Step 560000, Energy -6.236302196112275, Acceptance Rates [0.39202857]\n",
      "Step 570000, Energy -6.198479667184509, Acceptance Rates [0.39259298]\n",
      "Step 580000, Energy -6.18319744858283, Acceptance Rates [0.39293621]\n",
      "Step 590000, Energy -6.208553255864052, Acceptance Rates [0.39321186]\n",
      "Step 600000, Energy -6.232553478905032, Acceptance Rates [0.39360167]\n",
      "Step 610000, Energy -6.196354232326825, Acceptance Rates [0.39393607]\n",
      "Step 620000, Energy -6.158932531971179, Acceptance Rates [0.39435645]\n",
      "Step 630000, Energy -6.209229982188852, Acceptance Rates [0.39476032]\n",
      "Step 640000, Energy -6.172298772537342, Acceptance Rates [0.39496562]\n",
      "Step 650000, Energy -6.120940103490755, Acceptance Rates [0.39522923]\n",
      "Step 660000, Energy -6.177428456305893, Acceptance Rates [0.39550909]\n",
      "Step 670000, Energy -6.151198578662688, Acceptance Rates [0.39575522]\n",
      "Step 680000, Energy -6.101146006441118, Acceptance Rates [0.3959]\n",
      "Step 690000, Energy -6.194522270352007, Acceptance Rates [0.3961087]\n",
      "Step 700000, Energy -6.084871205087957, Acceptance Rates [0.39623571]\n",
      "Step 710000, Energy -6.0432874573362065, Acceptance Rates [0.39644648]\n",
      "Step 720000, Energy -6.035838857944169, Acceptance Rates [0.39660139]\n",
      "Step 730000, Energy -6.169859372720855, Acceptance Rates [0.3966589]\n",
      "Step 740000, Energy -6.124604445540069, Acceptance Rates [0.39681351]\n",
      "Step 750000, Energy -6.158112440664508, Acceptance Rates [0.39699867]\n",
      "Step 760000, Energy -6.156887629183095, Acceptance Rates [0.39713816]\n",
      "Step 770000, Energy -6.180160401521252, Acceptance Rates [0.39738961]\n",
      "Step 780000, Energy -6.132818115973625, Acceptance Rates [0.39748077]\n",
      "Step 790000, Energy -6.131278255968912, Acceptance Rates [0.39761392]\n",
      "Step 800000, Energy -6.19560225474892, Acceptance Rates [0.39798875]\n",
      "Step 810000, Energy -6.184072424681718, Acceptance Rates [0.39815309]\n",
      "Step 820000, Energy -6.170092858024977, Acceptance Rates [0.39827927]\n",
      "Step 830000, Energy -6.2252727237113055, Acceptance Rates [0.39836747]\n",
      "Step 840000, Energy -6.216506637655656, Acceptance Rates [0.3985119]\n",
      "Step 850000, Energy -6.131972102686155, Acceptance Rates [0.39868588]\n",
      "Step 860000, Energy -6.132515814250137, Acceptance Rates [0.39885698]\n",
      "Step 870000, Energy -6.212640728472614, Acceptance Rates [0.39902414]\n",
      "Step 880000, Energy -6.227162736915522, Acceptance Rates [0.39928977]\n",
      "Step 890000, Energy -6.250754203187222, Acceptance Rates [0.39944382]\n",
      "Step 900000, Energy -6.228064484309366, Acceptance Rates [0.39975]\n",
      "Step 910000, Energy -6.229639914003478, Acceptance Rates [0.39996813]\n",
      "Step 920000, Energy -6.147940709603075, Acceptance Rates [0.40024348]\n",
      "Step 930000, Energy -6.137154919393662, Acceptance Rates [0.40042151]\n",
      "Step 940000, Energy -6.148754145023131, Acceptance Rates [0.40061596]\n",
      "Step 950000, Energy -6.140460335386486, Acceptance Rates [0.40073579]\n",
      "Step 960000, Energy -6.148907660286575, Acceptance Rates [0.40095313]\n",
      "Step 970000, Energy -6.147730884852185, Acceptance Rates [0.40108969]\n",
      "Step 980000, Energy -6.188485923446004, Acceptance Rates [0.40126531]\n",
      "Step 990000, Energy -6.192084907681353, Acceptance Rates [0.40140303]\n",
      "Step 1000000, Energy -6.170278268681596, Acceptance Rates [0.401521]\n"
     ]
    }
   ],
   "source": [
    "t1 = timer()\n",
    "mc.run(1000000)\n",
    "t2 = timer()"
   ]
  },
  {
   "cell_type": "code",
   "execution_count": 14,
   "metadata": {},
   "outputs": [
    {
     "name": "stdout",
     "output_type": "stream",
     "text": [
      "1 million steps in  242 sec\n",
      " 4115 steps per second.\n"
     ]
    }
   ],
   "source": [
    "print(\"1 million steps in {:4d} sec\".format(int(t2 - t1)))\n",
    "print(\"{:5d} steps per second.\".format(int(1e6/(t2 - t1))))"
   ]
  },
  {
   "cell_type": "code",
   "execution_count": null,
   "metadata": {},
   "outputs": [],
   "source": []
  }
 ],
 "metadata": {
  "kernelspec": {
   "display_name": "Python 3",
   "language": "python",
   "name": "python3"
  },
  "language_info": {
   "codemirror_mode": {
    "name": "ipython",
    "version": 3
   },
   "file_extension": ".py",
   "mimetype": "text/x-python",
   "name": "python",
   "nbconvert_exporter": "python",
   "pygments_lexer": "ipython3",
   "version": "3.7.3"
  }
 },
 "nbformat": 4,
 "nbformat_minor": 2
}
