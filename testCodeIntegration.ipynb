{
 "cells": [
  {
   "cell_type": "code",
   "execution_count": 1,
   "metadata": {},
   "outputs": [
    {
     "name": "stderr",
     "output_type": "stream",
     "text": [
      "/home/joel/anaconda3/envs/sss_design_patterns/lib/python3.6/importlib/_bootstrap.py:219: RuntimeWarning: numpy.ufunc size changed, may indicate binary incompatibility. Expected 192 from C header, got 216 from PyObject\n",
      "  return f(*args, **kwds)\n"
     ]
    }
   ],
   "source": [
    "import numpy as np\n",
    "import mcpy.particles\n",
    "import mcpy.box\n",
    "import mcpy.pairwise\n",
    "import mcpy.integrator\n",
    "import mcpy.mcsimulation\n",
    "from timeit import default_timer as timer"
   ]
  },
  {
   "cell_type": "code",
   "execution_count": 2,
   "metadata": {},
   "outputs": [],
   "source": [
    "reduced_temperature = 0.9\n",
    "reduced_density = 0.9\n",
    "num_part = 500\n",
    "box_dims = np.full(3, np.cbrt(num_part / reduced_density))\n",
    "box = mcpy.box.Box(box_dims=box_dims)\n",
    "part = mcpy.particles.Particles.from_random(num_particles=num_part,\n",
    "                                            box_dims=box.box_dims)\n",
    "lj = mcpy.pairwise.LJ(cutoff=3.)\n",
    "intg = mcpy.integrator.Integrator(1/reduced_temperature, lj)\n",
    "mc = mcpy.mcsimulation.MCSimulation()"
   ]
  },
  {
   "cell_type": "code",
   "execution_count": 3,
   "metadata": {},
   "outputs": [
    {
     "name": "stdout",
     "output_type": "stream",
     "text": [
      "0.0\n"
     ]
    }
   ],
   "source": [
    "rij2 = box.minimum_image_distance(part.coordinates[0],\n",
    "                                 part.coordinates[part.coordinates !=\n",
    "                                                 part.coordinates[0]].\n",
    "                                 reshape((-1, 3)))\n",
    "pair_e = lj(rij2)\n",
    "pair_e2 = intg.get_particle_energy(part, box, 0)\n",
    "print(pair_e - pair_e2)"
   ]
  },
  {
   "cell_type": "code",
   "execution_count": 4,
   "metadata": {},
   "outputs": [],
   "source": [
    "mc.add_integrator(intg)\n",
    "mc.add_box(box)\n",
    "mc.add_particles(part)\n",
    "mc.add_potential(lj)"
   ]
  },
  {
   "cell_type": "code",
   "execution_count": 5,
   "metadata": {},
   "outputs": [
    {
     "name": "stdout",
     "output_type": "stream",
     "text": [
      "Step 10000, Energy 26.700254718083215, Acceptance Rates [0.4236]\n",
      "Step 20000, Energy -3.3379346718654705, Acceptance Rates [0.3631]\n",
      "Step 30000, Energy -5.1980019709006395, Acceptance Rates [0.35443333]\n",
      "Step 40000, Energy -5.666050815118116, Acceptance Rates [0.36545]\n",
      "Step 50000, Energy -5.780642444639641, Acceptance Rates [0.38414]\n",
      "Step 60000, Energy -5.867227541526001, Acceptance Rates [0.39788333]\n",
      "Step 70000, Energy -5.891475657335216, Acceptance Rates [0.40742857]\n",
      "Step 80000, Energy -5.939866537126898, Acceptance Rates [0.4153875]\n",
      "Step 90000, Energy -5.883507249992694, Acceptance Rates [0.42145556]\n",
      "Step 100000, Energy -5.959292389275572, Acceptance Rates [0.42347]\n"
     ]
    }
   ],
   "source": [
    "t1 = timer()\n",
    "mc.run(100000)\n",
    "t2 = timer()"
   ]
  },
  {
   "cell_type": "code",
   "execution_count": 6,
   "metadata": {},
   "outputs": [
    {
     "name": "stdout",
     "output_type": "stream",
     "text": [
      "1 million steps in  104 sec\n",
      " 9608 steps per second.\n"
     ]
    }
   ],
   "source": [
    "# PYTHON\n",
    "print(\"1 million steps in {:4d} sec\".format(int(t2 - t1)))\n",
    "print(\"{:5d} steps per second.\".format(int(1e6/(t2 - t1))))"
   ]
  },
  {
   "cell_type": "code",
   "execution_count": 6,
   "metadata": {},
   "outputs": [
    {
     "name": "stdout",
     "output_type": "stream",
     "text": [
      "1 million steps in   26 sec\n",
      "37752 steps per second.\n"
     ]
    }
   ],
   "source": [
    "# PYTHON\n",
    "print(\"1 million steps in {:4d} sec\".format(int(t2 - t1)))\n",
    "print(\"{:5d} steps per second.\".format(int(1e6/(t2 - t1))))"
   ]
  }
 ],
 "metadata": {
  "kernelspec": {
   "display_name": "Python 3",
   "language": "python",
   "name": "python3"
  },
  "language_info": {
   "codemirror_mode": {
    "name": "ipython",
    "version": 3
   },
   "file_extension": ".py",
   "mimetype": "text/x-python",
   "name": "python",
   "nbconvert_exporter": "python",
   "pygments_lexer": "ipython3",
   "version": "3.6.7"
  }
 },
 "nbformat": 4,
 "nbformat_minor": 2
}
