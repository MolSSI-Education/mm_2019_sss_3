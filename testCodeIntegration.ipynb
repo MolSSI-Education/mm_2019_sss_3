{
 "cells": [
  {
   "cell_type": "code",
   "execution_count": 4,
   "metadata": {},
   "outputs": [],
   "source": [
    "import numpy as np\n",
    "import mcpy.particles\n",
    "import mcpy.box\n",
    "import mcpy.pairwise\n",
    "import mcpy.integrator\n",
    "import mcpy.mcsimulation"
   ]
  },
  {
   "cell_type": "code",
   "execution_count": 5,
   "metadata": {},
   "outputs": [],
   "source": [
    "reduced_temperature = 0.9\n",
    "reduced_density = 0.9\n",
    "num_part = 500\n",
    "box_dims = np.full(3, np.cbrt(num_part / reduced_density))\n",
    "box = mcpy.box.Box(box_dims=box_dims)\n",
    "part = mcpy.particles.Particles.from_random(num_particles=num_part,\n",
    "                                            box_dims=box.box_dims)\n",
    "lj = mcpy.pairwise.LJ(cutoff=3.)\n",
    "intg = mcpy.integrator.Integrator(lj)\n",
    "mc = mcpy.mcsimulation.MCSimulation(beta=1/reduced_temperature)"
   ]
  },
  {
   "cell_type": "code",
   "execution_count": 6,
   "metadata": {},
   "outputs": [
    {
     "name": "stdout",
     "output_type": "stream",
     "text": [
      "0.0\n"
     ]
    }
   ],
   "source": [
    "rij2 = box.minimum_image_distance(part.coordinates[0],\n",
    "                                 part.coordinates[part.coordinates !=\n",
    "                                                 part.coordinates[0]].\n",
    "                                 reshape((-1, 3)))\n",
    "pair_e = lj(rij2)\n",
    "pair_e2 = intg.get_particle_energy(part, box, 0)\n",
    "print(pair_e - pair_e2)"
   ]
  },
  {
   "cell_type": "code",
   "execution_count": 7,
   "metadata": {},
   "outputs": [],
   "source": [
    "mc.add_integrator(intg)\n",
    "mc.add_box(box)\n",
    "mc.add_particles(part)\n",
    "mc.add_potential(lj)"
   ]
  },
  {
   "cell_type": "code",
   "execution_count": 8,
   "metadata": {},
   "outputs": [
    {
     "name": "stdout",
     "output_type": "stream",
     "text": [
      "Step 10000, Energy 23.93636942809531, Acceptance Rates [0.4085]\n",
      "Step 20000, Energy -3.0969298013687547, Acceptance Rates [0.3674]\n",
      "Step 30000, Energy -4.840575753275878, Acceptance Rates [0.3653]\n",
      "Step 40000, Energy -5.500929335631991, Acceptance Rates [0.379775]\n",
      "Step 50000, Energy -5.7274588865094165, Acceptance Rates [0.40106]\n",
      "Step 50050, Energy -5.726763542149528, Acceptance Rates [0.40113886]\n"
     ]
    }
   ],
   "source": [
    "mc.run(50050)"
   ]
  },
  {
   "cell_type": "code",
   "execution_count": 9,
   "metadata": {},
   "outputs": [
    {
     "name": "stdout",
     "output_type": "stream",
     "text": [
      "Step 60000, Energy -5.811890266980765, Acceptance Rates [0.41703333]\n",
      "Step 70000, Energy -5.874332337744713, Acceptance Rates [0.4282]\n",
      "Step 80000, Energy -6.018123854013611, Acceptance Rates [0.4341375]\n",
      "Step 90000, Energy -6.1109121067931325, Acceptance Rates [0.43415556]\n",
      "Step 100000, Energy -6.066335713844498, Acceptance Rates [0.43111]\n",
      "Step 110000, Energy -6.082239652830508, Acceptance Rates [0.42475455]\n",
      "Step 120000, Energy -6.206342380620332, Acceptance Rates [0.41721667]\n",
      "Step 130000, Energy -6.1449131579446, Acceptance Rates [0.41079231]\n",
      "Step 140000, Energy -6.141619856740982, Acceptance Rates [0.40533571]\n",
      "Step 150000, Energy -6.155670211038504, Acceptance Rates [0.40116667]\n",
      "Step 150050, Energy -6.162722426662323, Acceptance Rates [0.40115295]\n"
     ]
    }
   ],
   "source": [
    "mc.run(100000)"
   ]
  },
  {
   "cell_type": "code",
   "execution_count": 11,
   "metadata": {},
   "outputs": [
    {
     "name": "stdout",
     "output_type": "stream",
     "text": [
      "Step 160000, Energy -6.214266267106454, Acceptance Rates [0.3967625]\n",
      "Step 170000, Energy -6.220669661561053, Acceptance Rates [0.39260588]\n",
      "Step 180000, Energy -6.175479187764734, Acceptance Rates [0.38928333]\n",
      "Step 190000, Energy -6.1902069071201264, Acceptance Rates [0.38671579]\n",
      "Step 200000, Energy -6.077016658632301, Acceptance Rates [0.384085]\n",
      "Step 210000, Energy -6.120845931002639, Acceptance Rates [0.38155238]\n",
      "Step 220000, Energy -6.2308972293038725, Acceptance Rates [0.37926364]\n",
      "Step 230000, Energy -6.177537813562217, Acceptance Rates [0.37925217]\n",
      "Step 240000, Energy -6.213215624922788, Acceptance Rates [0.380775]\n",
      "Step 250000, Energy -6.131818024951646, Acceptance Rates [0.38212]\n",
      "Step 250050, Energy -6.131708811187229, Acceptance Rates [0.38212358]\n"
     ]
    }
   ],
   "source": [
    "mc.run(100000)"
   ]
  },
  {
   "cell_type": "code",
   "execution_count": null,
   "metadata": {},
   "outputs": [],
   "source": []
  }
 ],
 "metadata": {
  "kernelspec": {
   "display_name": "Python 3",
   "language": "python",
   "name": "python3"
  },
  "language_info": {
   "codemirror_mode": {
    "name": "ipython",
    "version": 3
   },
   "file_extension": ".py",
   "mimetype": "text/x-python",
   "name": "python",
   "nbconvert_exporter": "python",
   "pygments_lexer": "ipython3",
   "version": "3.6.8"
  }
 },
 "nbformat": 4,
 "nbformat_minor": 2
}
